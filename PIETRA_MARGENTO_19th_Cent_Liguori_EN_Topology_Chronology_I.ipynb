{
 "cells": [
  {
   "cell_type": "code",
   "execution_count": 1,
   "id": "08914171",
   "metadata": {},
   "outputs": [],
   "source": [
    "import pandas as pd\n",
    "import networkx as nx\n",
    "import itertools"
   ]
  },
  {
   "cell_type": "code",
   "execution_count": 187,
   "id": "c230c870",
   "metadata": {},
   "outputs": [],
   "source": [
    "excel_file = '19th_century_translations.xlsx'\n",
    "df = pd.read_excel(excel_file)"
   ]
  },
  {
   "cell_type": "code",
   "execution_count": 207,
   "id": "506f5cb8",
   "metadata": {},
   "outputs": [],
   "source": [
    "filtered_df = df.iloc[0:179]"
   ]
  },
  {
   "cell_type": "code",
   "execution_count": 208,
   "id": "76ba1a4b",
   "metadata": {},
   "outputs": [
    {
     "data": {
      "text/html": [
       "<div>\n",
       "<style scoped>\n",
       "    .dataframe tbody tr th:only-of-type {\n",
       "        vertical-align: middle;\n",
       "    }\n",
       "\n",
       "    .dataframe tbody tr th {\n",
       "        vertical-align: top;\n",
       "    }\n",
       "\n",
       "    .dataframe thead th {\n",
       "        text-align: right;\n",
       "    }\n",
       "</style>\n",
       "<table border=\"1\" class=\"dataframe\">\n",
       "  <thead>\n",
       "    <tr style=\"text-align: right;\">\n",
       "      <th></th>\n",
       "      <th>Year</th>\n",
       "      <th>Earlier</th>\n",
       "      <th>Subsequent Listing</th>\n",
       "      <th>Number of Editions</th>\n",
       "      <th>Digitised</th>\n",
       "      <th>Database Link</th>\n",
       "      <th>Edition</th>\n",
       "      <th>Author</th>\n",
       "      <th>Gender</th>\n",
       "      <th>Religious Au</th>\n",
       "      <th>...</th>\n",
       "      <th>Approbation</th>\n",
       "      <th>End Matter</th>\n",
       "      <th>Images</th>\n",
       "      <th>Notes</th>\n",
       "      <th>Full Title</th>\n",
       "      <th>Place of Publication</th>\n",
       "      <th>Source Lg.</th>\n",
       "      <th>Original - Title</th>\n",
       "      <th>Original - Pub. Place</th>\n",
       "      <th>Original - Year</th>\n",
       "    </tr>\n",
       "  </thead>\n",
       "  <tbody>\n",
       "    <tr>\n",
       "      <th>0</th>\n",
       "      <td>1846</td>\n",
       "      <td>NaN</td>\n",
       "      <td>NaN</td>\n",
       "      <td>1.0</td>\n",
       "      <td>NaN</td>\n",
       "      <td>NaN</td>\n",
       "      <td>NaN</td>\n",
       "      <td>Liguori, Alfonso Maria de', Saint, 1696-1787</td>\n",
       "      <td>male</td>\n",
       "      <td>Yes (Saint)</td>\n",
       "      <td>...</td>\n",
       "      <td>NaN</td>\n",
       "      <td>NaN</td>\n",
       "      <td>NaN</td>\n",
       "      <td>NaN</td>\n",
       "      <td>NaN</td>\n",
       "      <td>Dublin</td>\n",
       "      <td>Italian</td>\n",
       "      <td>NaN</td>\n",
       "      <td>NaN</td>\n",
       "      <td>NaN</td>\n",
       "    </tr>\n",
       "    <tr>\n",
       "      <th>1</th>\n",
       "      <td>1853</td>\n",
       "      <td>NaN</td>\n",
       "      <td>NaN</td>\n",
       "      <td>1.0</td>\n",
       "      <td>NaN</td>\n",
       "      <td>NaN</td>\n",
       "      <td>NaN</td>\n",
       "      <td>Liguori, Alfonso Maria de', Saint, 1696-1787</td>\n",
       "      <td>male</td>\n",
       "      <td>Yes (Saint)</td>\n",
       "      <td>...</td>\n",
       "      <td>NaN</td>\n",
       "      <td>NaN</td>\n",
       "      <td>NaN</td>\n",
       "      <td>Worldcat</td>\n",
       "      <td>NaN</td>\n",
       "      <td>Dublin</td>\n",
       "      <td>NaN</td>\n",
       "      <td>NaN</td>\n",
       "      <td>NaN</td>\n",
       "      <td>NaN</td>\n",
       "    </tr>\n",
       "    <tr>\n",
       "      <th>2</th>\n",
       "      <td>1873</td>\n",
       "      <td>NaN</td>\n",
       "      <td>NaN</td>\n",
       "      <td>1.0</td>\n",
       "      <td>NaN</td>\n",
       "      <td>NaN</td>\n",
       "      <td>NaN</td>\n",
       "      <td>Liguori, Alfonso Maria de', Saint, 1696-1787</td>\n",
       "      <td>male</td>\n",
       "      <td>Yes (Saint)</td>\n",
       "      <td>...</td>\n",
       "      <td>NaN</td>\n",
       "      <td>NaN</td>\n",
       "      <td>NaN</td>\n",
       "      <td>Worldcat</td>\n",
       "      <td>NaN</td>\n",
       "      <td>Dublin</td>\n",
       "      <td>NaN</td>\n",
       "      <td>NaN</td>\n",
       "      <td>NaN</td>\n",
       "      <td>NaN</td>\n",
       "    </tr>\n",
       "    <tr>\n",
       "      <th>3</th>\n",
       "      <td>1859</td>\n",
       "      <td>NaN</td>\n",
       "      <td>NaN</td>\n",
       "      <td>1.0</td>\n",
       "      <td>NaN</td>\n",
       "      <td>NaN</td>\n",
       "      <td>NaN</td>\n",
       "      <td>Liguori, Alfonso Maria de', Saint, 1696-1787</td>\n",
       "      <td>male</td>\n",
       "      <td>Yes (Saint)</td>\n",
       "      <td>...</td>\n",
       "      <td>NaN</td>\n",
       "      <td>NaN</td>\n",
       "      <td>NaN</td>\n",
       "      <td>Worldcat</td>\n",
       "      <td>NaN</td>\n",
       "      <td>New York; Montreal</td>\n",
       "      <td>NaN</td>\n",
       "      <td>NaN</td>\n",
       "      <td>NaN</td>\n",
       "      <td>NaN</td>\n",
       "    </tr>\n",
       "    <tr>\n",
       "      <th>4</th>\n",
       "      <td>1872</td>\n",
       "      <td>NaN</td>\n",
       "      <td>NaN</td>\n",
       "      <td>1.0</td>\n",
       "      <td>NaN</td>\n",
       "      <td>NaN</td>\n",
       "      <td>NaN</td>\n",
       "      <td>Liguori, Alfonso Maria de', Saint, 1696-1787</td>\n",
       "      <td>male</td>\n",
       "      <td>Yes (Saint)</td>\n",
       "      <td>...</td>\n",
       "      <td>NaN</td>\n",
       "      <td>NaN</td>\n",
       "      <td>NaN</td>\n",
       "      <td>Worldcat</td>\n",
       "      <td>NaN</td>\n",
       "      <td>Einsiedeln</td>\n",
       "      <td>NaN</td>\n",
       "      <td>Esercizio della via crucis</td>\n",
       "      <td>NaN</td>\n",
       "      <td>NaN</td>\n",
       "    </tr>\n",
       "    <tr>\n",
       "      <th>...</th>\n",
       "      <td>...</td>\n",
       "      <td>...</td>\n",
       "      <td>...</td>\n",
       "      <td>...</td>\n",
       "      <td>...</td>\n",
       "      <td>...</td>\n",
       "      <td>...</td>\n",
       "      <td>...</td>\n",
       "      <td>...</td>\n",
       "      <td>...</td>\n",
       "      <td>...</td>\n",
       "      <td>...</td>\n",
       "      <td>...</td>\n",
       "      <td>...</td>\n",
       "      <td>...</td>\n",
       "      <td>...</td>\n",
       "      <td>...</td>\n",
       "      <td>...</td>\n",
       "      <td>...</td>\n",
       "      <td>...</td>\n",
       "      <td>...</td>\n",
       "    </tr>\n",
       "    <tr>\n",
       "      <th>174</th>\n",
       "      <td>1845</td>\n",
       "      <td>NaN</td>\n",
       "      <td>NaN</td>\n",
       "      <td>NaN</td>\n",
       "      <td>NaN</td>\n",
       "      <td>NaN</td>\n",
       "      <td>NaN</td>\n",
       "      <td>Liguori, Alfonso Maria de', Saint, 1696-1805</td>\n",
       "      <td>male</td>\n",
       "      <td>yes (Priest)</td>\n",
       "      <td>...</td>\n",
       "      <td>NaN</td>\n",
       "      <td>NaN</td>\n",
       "      <td>NaN</td>\n",
       "      <td>All works had been published separately in the...</td>\n",
       "      <td>NaN</td>\n",
       "      <td>Dublin</td>\n",
       "      <td>NaN</td>\n",
       "      <td>NaN</td>\n",
       "      <td>NaN</td>\n",
       "      <td>NaN</td>\n",
       "    </tr>\n",
       "    <tr>\n",
       "      <th>175</th>\n",
       "      <td>1888</td>\n",
       "      <td>NaN</td>\n",
       "      <td>NaN</td>\n",
       "      <td>NaN</td>\n",
       "      <td>NaN</td>\n",
       "      <td>NaN</td>\n",
       "      <td>NaN</td>\n",
       "      <td>Liguori, Alfonso Maria de', Saint, 1696-1806</td>\n",
       "      <td>male</td>\n",
       "      <td>yes (Priest)</td>\n",
       "      <td>...</td>\n",
       "      <td>NaN</td>\n",
       "      <td>NaN</td>\n",
       "      <td>NaN</td>\n",
       "      <td>Worldcat</td>\n",
       "      <td>NaN</td>\n",
       "      <td>New York</td>\n",
       "      <td>NaN</td>\n",
       "      <td>NaN</td>\n",
       "      <td>NaN</td>\n",
       "      <td>NaN</td>\n",
       "    </tr>\n",
       "    <tr>\n",
       "      <th>176</th>\n",
       "      <td>1852</td>\n",
       "      <td>NaN</td>\n",
       "      <td>NaN</td>\n",
       "      <td>NaN</td>\n",
       "      <td>NaN</td>\n",
       "      <td>NaN</td>\n",
       "      <td>NaN</td>\n",
       "      <td>Liguori, Alfonso Maria de', Saint, 1696-1808</td>\n",
       "      <td>male</td>\n",
       "      <td>yes (Priest)</td>\n",
       "      <td>...</td>\n",
       "      <td>NaN</td>\n",
       "      <td>NaN</td>\n",
       "      <td>frontispiece portrait</td>\n",
       "      <td>Worldcat</td>\n",
       "      <td>NaN</td>\n",
       "      <td>Baltimore; Pittsburg</td>\n",
       "      <td>NaN</td>\n",
       "      <td>NaN</td>\n",
       "      <td>NaN</td>\n",
       "      <td>NaN</td>\n",
       "    </tr>\n",
       "    <tr>\n",
       "      <th>177</th>\n",
       "      <td>1872</td>\n",
       "      <td>NaN</td>\n",
       "      <td>NaN</td>\n",
       "      <td>NaN</td>\n",
       "      <td>NaN</td>\n",
       "      <td>NaN</td>\n",
       "      <td>NaN</td>\n",
       "      <td>Liguori, Alfonso Maria de', Saint, 1696-1809</td>\n",
       "      <td>male</td>\n",
       "      <td>yes (Priest)</td>\n",
       "      <td>...</td>\n",
       "      <td>NaN</td>\n",
       "      <td>NaN</td>\n",
       "      <td>NaN</td>\n",
       "      <td>Worldcat</td>\n",
       "      <td>NaN</td>\n",
       "      <td>New York</td>\n",
       "      <td>NaN</td>\n",
       "      <td>NaN</td>\n",
       "      <td>NaN</td>\n",
       "      <td>NaN</td>\n",
       "    </tr>\n",
       "    <tr>\n",
       "      <th>178</th>\n",
       "      <td>1900</td>\n",
       "      <td>NaN</td>\n",
       "      <td>NaN</td>\n",
       "      <td>NaN</td>\n",
       "      <td>NaN</td>\n",
       "      <td>NaN</td>\n",
       "      <td>NaN</td>\n",
       "      <td>Liguori, Alfonso Maria de', Saint, 1696-1810</td>\n",
       "      <td>male</td>\n",
       "      <td>yes (Priest)</td>\n",
       "      <td>...</td>\n",
       "      <td>NaN</td>\n",
       "      <td>NaN</td>\n",
       "      <td>NaN</td>\n",
       "      <td>Worldcat</td>\n",
       "      <td>NaN</td>\n",
       "      <td>Dublin</td>\n",
       "      <td>NaN</td>\n",
       "      <td>NaN</td>\n",
       "      <td>NaN</td>\n",
       "      <td>NaN</td>\n",
       "    </tr>\n",
       "  </tbody>\n",
       "</table>\n",
       "<p>179 rows × 25 columns</p>\n",
       "</div>"
      ],
      "text/plain": [
       "     Year Earlier Subsequent Listing  Number of Editions Digitised  \\\n",
       "0    1846     NaN                NaN                 1.0       NaN   \n",
       "1    1853     NaN                NaN                 1.0       NaN   \n",
       "2    1873     NaN                NaN                 1.0       NaN   \n",
       "3    1859     NaN                NaN                 1.0       NaN   \n",
       "4    1872     NaN                NaN                 1.0       NaN   \n",
       "..    ...     ...                ...                 ...       ...   \n",
       "174  1845     NaN                NaN                 NaN       NaN   \n",
       "175  1888     NaN                NaN                 NaN       NaN   \n",
       "176  1852     NaN                NaN                 NaN       NaN   \n",
       "177  1872     NaN                NaN                 NaN       NaN   \n",
       "178  1900     NaN                NaN                 NaN       NaN   \n",
       "\n",
       "    Database Link Edition                                        Author  \\\n",
       "0             NaN     NaN  Liguori, Alfonso Maria de', Saint, 1696-1787   \n",
       "1             NaN     NaN  Liguori, Alfonso Maria de', Saint, 1696-1787   \n",
       "2             NaN     NaN  Liguori, Alfonso Maria de', Saint, 1696-1787   \n",
       "3             NaN     NaN  Liguori, Alfonso Maria de', Saint, 1696-1787   \n",
       "4             NaN     NaN  Liguori, Alfonso Maria de', Saint, 1696-1787   \n",
       "..            ...     ...                                           ...   \n",
       "174           NaN     NaN  Liguori, Alfonso Maria de', Saint, 1696-1805   \n",
       "175           NaN     NaN  Liguori, Alfonso Maria de', Saint, 1696-1806   \n",
       "176           NaN     NaN  Liguori, Alfonso Maria de', Saint, 1696-1808   \n",
       "177           NaN     NaN  Liguori, Alfonso Maria de', Saint, 1696-1809   \n",
       "178           NaN     NaN  Liguori, Alfonso Maria de', Saint, 1696-1810   \n",
       "\n",
       "    Gender  Religious Au  ... Approbation End Matter                 Images  \\\n",
       "0     male   Yes (Saint)  ...         NaN        NaN                    NaN   \n",
       "1     male   Yes (Saint)  ...         NaN        NaN                    NaN   \n",
       "2     male   Yes (Saint)  ...         NaN        NaN                    NaN   \n",
       "3     male   Yes (Saint)  ...         NaN        NaN                    NaN   \n",
       "4     male   Yes (Saint)  ...         NaN        NaN                    NaN   \n",
       "..     ...           ...  ...         ...        ...                    ...   \n",
       "174   male  yes (Priest)  ...         NaN        NaN                    NaN   \n",
       "175   male  yes (Priest)  ...         NaN        NaN                    NaN   \n",
       "176   male  yes (Priest)  ...         NaN        NaN  frontispiece portrait   \n",
       "177   male  yes (Priest)  ...         NaN        NaN                    NaN   \n",
       "178   male  yes (Priest)  ...         NaN        NaN                    NaN   \n",
       "\n",
       "                                                 Notes Full Title  \\\n",
       "0                                                  NaN        NaN   \n",
       "1                                             Worldcat        NaN   \n",
       "2                                             Worldcat        NaN   \n",
       "3                                             Worldcat        NaN   \n",
       "4                                             Worldcat        NaN   \n",
       "..                                                 ...        ...   \n",
       "174  All works had been published separately in the...        NaN   \n",
       "175                                           Worldcat        NaN   \n",
       "176                                           Worldcat        NaN   \n",
       "177                                           Worldcat        NaN   \n",
       "178                                           Worldcat        NaN   \n",
       "\n",
       "     Place of Publication Source Lg.            Original - Title  \\\n",
       "0                  Dublin    Italian                         NaN   \n",
       "1                  Dublin        NaN                         NaN   \n",
       "2                  Dublin        NaN                         NaN   \n",
       "3      New York; Montreal        NaN                         NaN   \n",
       "4              Einsiedeln        NaN  Esercizio della via crucis   \n",
       "..                    ...        ...                         ...   \n",
       "174                Dublin        NaN                         NaN   \n",
       "175              New York        NaN                         NaN   \n",
       "176  Baltimore; Pittsburg        NaN                         NaN   \n",
       "177              New York        NaN                         NaN   \n",
       "178                Dublin        NaN                         NaN   \n",
       "\n",
       "    Original - Pub. Place Original - Year  \n",
       "0                     NaN             NaN  \n",
       "1                     NaN             NaN  \n",
       "2                     NaN             NaN  \n",
       "3                     NaN             NaN  \n",
       "4                     NaN             NaN  \n",
       "..                    ...             ...  \n",
       "174                   NaN             NaN  \n",
       "175                   NaN             NaN  \n",
       "176                   NaN             NaN  \n",
       "177                   NaN             NaN  \n",
       "178                   NaN             NaN  \n",
       "\n",
       "[179 rows x 25 columns]"
      ]
     },
     "execution_count": 208,
     "metadata": {},
     "output_type": "execute_result"
    }
   ],
   "source": [
    "filtered_df"
   ]
  },
  {
   "cell_type": "code",
   "execution_count": 91,
   "id": "7e2cff0e",
   "metadata": {},
   "outputs": [
    {
     "data": {
      "text/html": [
       "<div>\n",
       "<style scoped>\n",
       "    .dataframe tbody tr th:only-of-type {\n",
       "        vertical-align: middle;\n",
       "    }\n",
       "\n",
       "    .dataframe tbody tr th {\n",
       "        vertical-align: top;\n",
       "    }\n",
       "\n",
       "    .dataframe thead th {\n",
       "        text-align: right;\n",
       "    }\n",
       "</style>\n",
       "<table border=\"1\" class=\"dataframe\">\n",
       "  <thead>\n",
       "    <tr style=\"text-align: right;\">\n",
       "      <th></th>\n",
       "      <th>Year</th>\n",
       "      <th>Earlier</th>\n",
       "      <th>Subsequent Listing</th>\n",
       "      <th>Number of Editions</th>\n",
       "      <th>Digitised</th>\n",
       "      <th>Database Link</th>\n",
       "      <th>Edition</th>\n",
       "      <th>Author</th>\n",
       "      <th>Gender</th>\n",
       "      <th>Religious Au</th>\n",
       "      <th>...</th>\n",
       "      <th>Approbation</th>\n",
       "      <th>End Matter</th>\n",
       "      <th>Images</th>\n",
       "      <th>Notes</th>\n",
       "      <th>Full Title</th>\n",
       "      <th>Place of Publication</th>\n",
       "      <th>Source Lg.</th>\n",
       "      <th>Original - Title</th>\n",
       "      <th>Original - Pub. Place</th>\n",
       "      <th>Original - Year</th>\n",
       "    </tr>\n",
       "  </thead>\n",
       "  <tbody>\n",
       "    <tr>\n",
       "      <th>0</th>\n",
       "      <td>1846</td>\n",
       "      <td>NaN</td>\n",
       "      <td>NaN</td>\n",
       "      <td>1.0</td>\n",
       "      <td>NaN</td>\n",
       "      <td>NaN</td>\n",
       "      <td>NaN</td>\n",
       "      <td>Liguori, Alfonso Maria de', Saint, 1696-1787</td>\n",
       "      <td>male</td>\n",
       "      <td>Yes (Saint)</td>\n",
       "      <td>...</td>\n",
       "      <td>NaN</td>\n",
       "      <td>NaN</td>\n",
       "      <td>NaN</td>\n",
       "      <td>NaN</td>\n",
       "      <td>NaN</td>\n",
       "      <td>Dublin</td>\n",
       "      <td>Italian</td>\n",
       "      <td>NaN</td>\n",
       "      <td>NaN</td>\n",
       "      <td>NaN</td>\n",
       "    </tr>\n",
       "    <tr>\n",
       "      <th>1</th>\n",
       "      <td>1853</td>\n",
       "      <td>NaN</td>\n",
       "      <td>NaN</td>\n",
       "      <td>1.0</td>\n",
       "      <td>NaN</td>\n",
       "      <td>NaN</td>\n",
       "      <td>NaN</td>\n",
       "      <td>Liguori, Alfonso Maria de', Saint, 1696-1787</td>\n",
       "      <td>male</td>\n",
       "      <td>Yes (Saint)</td>\n",
       "      <td>...</td>\n",
       "      <td>NaN</td>\n",
       "      <td>NaN</td>\n",
       "      <td>NaN</td>\n",
       "      <td>Worldcat</td>\n",
       "      <td>NaN</td>\n",
       "      <td>Dublin</td>\n",
       "      <td>NaN</td>\n",
       "      <td>NaN</td>\n",
       "      <td>NaN</td>\n",
       "      <td>NaN</td>\n",
       "    </tr>\n",
       "    <tr>\n",
       "      <th>2</th>\n",
       "      <td>1873</td>\n",
       "      <td>NaN</td>\n",
       "      <td>NaN</td>\n",
       "      <td>1.0</td>\n",
       "      <td>NaN</td>\n",
       "      <td>NaN</td>\n",
       "      <td>NaN</td>\n",
       "      <td>Liguori, Alfonso Maria de', Saint, 1696-1787</td>\n",
       "      <td>male</td>\n",
       "      <td>Yes (Saint)</td>\n",
       "      <td>...</td>\n",
       "      <td>NaN</td>\n",
       "      <td>NaN</td>\n",
       "      <td>NaN</td>\n",
       "      <td>Worldcat</td>\n",
       "      <td>NaN</td>\n",
       "      <td>Dublin</td>\n",
       "      <td>NaN</td>\n",
       "      <td>NaN</td>\n",
       "      <td>NaN</td>\n",
       "      <td>NaN</td>\n",
       "    </tr>\n",
       "    <tr>\n",
       "      <th>3</th>\n",
       "      <td>1859</td>\n",
       "      <td>NaN</td>\n",
       "      <td>NaN</td>\n",
       "      <td>1.0</td>\n",
       "      <td>NaN</td>\n",
       "      <td>NaN</td>\n",
       "      <td>NaN</td>\n",
       "      <td>Liguori, Alfonso Maria de', Saint, 1696-1787</td>\n",
       "      <td>male</td>\n",
       "      <td>Yes (Saint)</td>\n",
       "      <td>...</td>\n",
       "      <td>NaN</td>\n",
       "      <td>NaN</td>\n",
       "      <td>NaN</td>\n",
       "      <td>Worldcat</td>\n",
       "      <td>NaN</td>\n",
       "      <td>New York; Montreal</td>\n",
       "      <td>NaN</td>\n",
       "      <td>NaN</td>\n",
       "      <td>NaN</td>\n",
       "      <td>NaN</td>\n",
       "    </tr>\n",
       "    <tr>\n",
       "      <th>4</th>\n",
       "      <td>1872</td>\n",
       "      <td>NaN</td>\n",
       "      <td>NaN</td>\n",
       "      <td>1.0</td>\n",
       "      <td>NaN</td>\n",
       "      <td>NaN</td>\n",
       "      <td>NaN</td>\n",
       "      <td>Liguori, Alfonso Maria de', Saint, 1696-1787</td>\n",
       "      <td>male</td>\n",
       "      <td>Yes (Saint)</td>\n",
       "      <td>...</td>\n",
       "      <td>NaN</td>\n",
       "      <td>NaN</td>\n",
       "      <td>NaN</td>\n",
       "      <td>Worldcat</td>\n",
       "      <td>NaN</td>\n",
       "      <td>Einsiedeln</td>\n",
       "      <td>NaN</td>\n",
       "      <td>Esercizio della via crucis</td>\n",
       "      <td>NaN</td>\n",
       "      <td>NaN</td>\n",
       "    </tr>\n",
       "    <tr>\n",
       "      <th>...</th>\n",
       "      <td>...</td>\n",
       "      <td>...</td>\n",
       "      <td>...</td>\n",
       "      <td>...</td>\n",
       "      <td>...</td>\n",
       "      <td>...</td>\n",
       "      <td>...</td>\n",
       "      <td>...</td>\n",
       "      <td>...</td>\n",
       "      <td>...</td>\n",
       "      <td>...</td>\n",
       "      <td>...</td>\n",
       "      <td>...</td>\n",
       "      <td>...</td>\n",
       "      <td>...</td>\n",
       "      <td>...</td>\n",
       "      <td>...</td>\n",
       "      <td>...</td>\n",
       "      <td>...</td>\n",
       "      <td>...</td>\n",
       "      <td>...</td>\n",
       "    </tr>\n",
       "    <tr>\n",
       "      <th>1028</th>\n",
       "      <td>1856</td>\n",
       "      <td>NaN</td>\n",
       "      <td>NaN</td>\n",
       "      <td>NaN</td>\n",
       "      <td>https://www.google.ie/books/edition/Nine_consi...</td>\n",
       "      <td>NaN</td>\n",
       "      <td>NaN</td>\n",
       "      <td>Drexelius, Jerome</td>\n",
       "      <td>male</td>\n",
       "      <td>NaN</td>\n",
       "      <td>...</td>\n",
       "      <td>NaN</td>\n",
       "      <td>NaN</td>\n",
       "      <td>NaN</td>\n",
       "      <td>Battersby's Registry for the whole world, with...</td>\n",
       "      <td>NaN</td>\n",
       "      <td>London; Dublin; Derby</td>\n",
       "      <td>Latin</td>\n",
       "      <td>NaN</td>\n",
       "      <td>NaN</td>\n",
       "      <td>NaN</td>\n",
       "    </tr>\n",
       "    <tr>\n",
       "      <th>1029</th>\n",
       "      <td>1847</td>\n",
       "      <td>NaN</td>\n",
       "      <td>NaN</td>\n",
       "      <td>NaN</td>\n",
       "      <td>https://archive.org/details/livesofstthomaso00...</td>\n",
       "      <td>NaN</td>\n",
       "      <td>NaN</td>\n",
       "      <td>Maimbourg, Claude</td>\n",
       "      <td>male</td>\n",
       "      <td>NaN</td>\n",
       "      <td>...</td>\n",
       "      <td>NaN</td>\n",
       "      <td>NaN</td>\n",
       "      <td>NaN</td>\n",
       "      <td>Battersby's Registry for the whole world, with...</td>\n",
       "      <td>NaN</td>\n",
       "      <td>New York; Londonl Dublin; Derby</td>\n",
       "      <td>various lgs.</td>\n",
       "      <td>NaN</td>\n",
       "      <td>NaN</td>\n",
       "      <td>NaN</td>\n",
       "    </tr>\n",
       "    <tr>\n",
       "      <th>1030</th>\n",
       "      <td>1902</td>\n",
       "      <td>NaN</td>\n",
       "      <td>NaN</td>\n",
       "      <td>NaN</td>\n",
       "      <td>NaN</td>\n",
       "      <td>NaN</td>\n",
       "      <td>new &amp; enl. ed.</td>\n",
       "      <td>Bacci, Pietro Giacomo</td>\n",
       "      <td>male</td>\n",
       "      <td>NaN</td>\n",
       "      <td>...</td>\n",
       "      <td>NaN</td>\n",
       "      <td>NaN</td>\n",
       "      <td>NaN</td>\n",
       "      <td>Battersby's Registry for the whole world, with...</td>\n",
       "      <td>NaN</td>\n",
       "      <td>St. Louis</td>\n",
       "      <td>Italian</td>\n",
       "      <td>NaN</td>\n",
       "      <td>NaN</td>\n",
       "      <td>NaN</td>\n",
       "    </tr>\n",
       "    <tr>\n",
       "      <th>1031</th>\n",
       "      <td>1855</td>\n",
       "      <td>NaN</td>\n",
       "      <td>NaN</td>\n",
       "      <td>NaN</td>\n",
       "      <td>NaN</td>\n",
       "      <td>NaN</td>\n",
       "      <td>NaN</td>\n",
       "      <td>Gautrelet, Francois Xavier [SJ]</td>\n",
       "      <td>male</td>\n",
       "      <td>yes (Priest)</td>\n",
       "      <td>...</td>\n",
       "      <td>NaN</td>\n",
       "      <td>NaN</td>\n",
       "      <td>NaN</td>\n",
       "      <td>Battersby's Registry for the whole world, with...</td>\n",
       "      <td>NaN</td>\n",
       "      <td>London; Dublin; Derby</td>\n",
       "      <td>French</td>\n",
       "      <td>NaN</td>\n",
       "      <td>NaN</td>\n",
       "      <td>NaN</td>\n",
       "    </tr>\n",
       "    <tr>\n",
       "      <th>1032</th>\n",
       "      <td>c. 1850</td>\n",
       "      <td>NaN</td>\n",
       "      <td>NaN</td>\n",
       "      <td>NaN</td>\n",
       "      <td>NaN</td>\n",
       "      <td>NaN</td>\n",
       "      <td>NaN</td>\n",
       "      <td>unknown</td>\n",
       "      <td>NaN</td>\n",
       "      <td>NaN</td>\n",
       "      <td>...</td>\n",
       "      <td>NaN</td>\n",
       "      <td>NaN</td>\n",
       "      <td>NaN</td>\n",
       "      <td>J. Duffy Catalogue</td>\n",
       "      <td>NaN</td>\n",
       "      <td>Dublin</td>\n",
       "      <td>Italian</td>\n",
       "      <td>NaN</td>\n",
       "      <td>NaN</td>\n",
       "      <td>NaN</td>\n",
       "    </tr>\n",
       "  </tbody>\n",
       "</table>\n",
       "<p>1033 rows × 25 columns</p>\n",
       "</div>"
      ],
      "text/plain": [
       "         Year Earlier Subsequent Listing  Number of Editions  \\\n",
       "0        1846     NaN                NaN                 1.0   \n",
       "1        1853     NaN                NaN                 1.0   \n",
       "2        1873     NaN                NaN                 1.0   \n",
       "3        1859     NaN                NaN                 1.0   \n",
       "4        1872     NaN                NaN                 1.0   \n",
       "...       ...     ...                ...                 ...   \n",
       "1028     1856     NaN                NaN                 NaN   \n",
       "1029     1847     NaN                NaN                 NaN   \n",
       "1030     1902     NaN                NaN                 NaN   \n",
       "1031     1855     NaN                NaN                 NaN   \n",
       "1032  c. 1850     NaN                NaN                 NaN   \n",
       "\n",
       "                                              Digitised Database Link  \\\n",
       "0                                                   NaN           NaN   \n",
       "1                                                   NaN           NaN   \n",
       "2                                                   NaN           NaN   \n",
       "3                                                   NaN           NaN   \n",
       "4                                                   NaN           NaN   \n",
       "...                                                 ...           ...   \n",
       "1028  https://www.google.ie/books/edition/Nine_consi...           NaN   \n",
       "1029  https://archive.org/details/livesofstthomaso00...           NaN   \n",
       "1030                                                NaN           NaN   \n",
       "1031                                                NaN           NaN   \n",
       "1032                                                NaN           NaN   \n",
       "\n",
       "             Edition                                        Author Gender  \\\n",
       "0                NaN  Liguori, Alfonso Maria de', Saint, 1696-1787   male   \n",
       "1                NaN  Liguori, Alfonso Maria de', Saint, 1696-1787   male   \n",
       "2                NaN  Liguori, Alfonso Maria de', Saint, 1696-1787   male   \n",
       "3                NaN  Liguori, Alfonso Maria de', Saint, 1696-1787   male   \n",
       "4                NaN  Liguori, Alfonso Maria de', Saint, 1696-1787   male   \n",
       "...              ...                                           ...    ...   \n",
       "1028             NaN                             Drexelius, Jerome   male   \n",
       "1029             NaN                             Maimbourg, Claude   male   \n",
       "1030  new & enl. ed.                        Bacci, Pietro Giacomo    male   \n",
       "1031             NaN               Gautrelet, Francois Xavier [SJ]   male   \n",
       "1032             NaN                                       unknown    NaN   \n",
       "\n",
       "      Religious Au  ... Approbation End Matter Images  \\\n",
       "0      Yes (Saint)  ...         NaN        NaN    NaN   \n",
       "1      Yes (Saint)  ...         NaN        NaN    NaN   \n",
       "2      Yes (Saint)  ...         NaN        NaN    NaN   \n",
       "3      Yes (Saint)  ...         NaN        NaN    NaN   \n",
       "4      Yes (Saint)  ...         NaN        NaN    NaN   \n",
       "...            ...  ...         ...        ...    ...   \n",
       "1028           NaN  ...         NaN        NaN    NaN   \n",
       "1029           NaN  ...         NaN        NaN    NaN   \n",
       "1030           NaN  ...         NaN        NaN    NaN   \n",
       "1031  yes (Priest)  ...         NaN        NaN    NaN   \n",
       "1032           NaN  ...         NaN        NaN    NaN   \n",
       "\n",
       "                                                  Notes Full Title  \\\n",
       "0                                                   NaN        NaN   \n",
       "1                                              Worldcat        NaN   \n",
       "2                                              Worldcat        NaN   \n",
       "3                                              Worldcat        NaN   \n",
       "4                                              Worldcat        NaN   \n",
       "...                                                 ...        ...   \n",
       "1028  Battersby's Registry for the whole world, with...        NaN   \n",
       "1029  Battersby's Registry for the whole world, with...        NaN   \n",
       "1030  Battersby's Registry for the whole world, with...        NaN   \n",
       "1031  Battersby's Registry for the whole world, with...        NaN   \n",
       "1032                                 J. Duffy Catalogue        NaN   \n",
       "\n",
       "                 Place of Publication    Source Lg.  \\\n",
       "0                              Dublin       Italian   \n",
       "1                              Dublin           NaN   \n",
       "2                              Dublin           NaN   \n",
       "3                  New York; Montreal           NaN   \n",
       "4                          Einsiedeln           NaN   \n",
       "...                               ...           ...   \n",
       "1028            London; Dublin; Derby         Latin   \n",
       "1029  New York; Londonl Dublin; Derby  various lgs.   \n",
       "1030                        St. Louis       Italian   \n",
       "1031            London; Dublin; Derby        French   \n",
       "1032                           Dublin       Italian   \n",
       "\n",
       "                Original - Title Original - Pub. Place Original - Year  \n",
       "0                            NaN                   NaN             NaN  \n",
       "1                            NaN                   NaN             NaN  \n",
       "2                            NaN                   NaN             NaN  \n",
       "3                            NaN                   NaN             NaN  \n",
       "4     Esercizio della via crucis                   NaN             NaN  \n",
       "...                          ...                   ...             ...  \n",
       "1028                         NaN                   NaN             NaN  \n",
       "1029                         NaN                   NaN             NaN  \n",
       "1030                         NaN                   NaN             NaN  \n",
       "1031                         NaN                   NaN             NaN  \n",
       "1032                         NaN                   NaN             NaN  \n",
       "\n",
       "[1033 rows x 25 columns]"
      ]
     },
     "execution_count": 91,
     "metadata": {},
     "output_type": "execute_result"
    }
   ],
   "source": [
    "df"
   ]
  },
  {
   "cell_type": "code",
   "execution_count": 7,
   "id": "f63a6461",
   "metadata": {},
   "outputs": [
    {
     "name": "stdout",
     "output_type": "stream",
     "text": [
      "1839\n",
      "1834\n",
      "1836\n"
     ]
    }
   ],
   "source": [
    "for y in filtered_df['Year']:\n",
    "    if type(y) == int and y < 1841:\n",
    "        print(y)"
   ]
  },
  {
   "cell_type": "code",
   "execution_count": 101,
   "id": "e121350f",
   "metadata": {},
   "outputs": [
    {
     "name": "stdout",
     "output_type": "stream",
     "text": [
      "62 1834 A Short Treatise on Prayer John Coyne\n",
      "65 1800 The Spirit Of Blessed Alphonsus De Liguori Fielding Lucas, JR.\n",
      "66 1839 The Spirit Of Blessed Alphonsus De Liguori Richard Grace\n",
      "69 1835 The Love of Our Lord Jesus Christ. Reduced to Practice James Duffy\n",
      "77 1835 The True Spouse of Jesus John Coyne\n",
      "82 1834 Visits to the Most Holy Sacrament Richard Grace\n",
      "103 1833 The Glories of Mary John Coyne\n",
      "104 1839 The Glories of Mary E. Cummiskey\n",
      "121 1834 A Short Treatise on Prayer John Coyne\n",
      "149 1836 The Love of Our Lord Jesus Christ. Reduced to Practice Fielding Lucas, JR.\n"
     ]
    }
   ],
   "source": [
    "for index, row in filtered_df.iterrows():\n",
    "    if row['Year'] not in ['[s.d.]', '185?', '18--', '????'] and int(row['Year']) < 1841:\n",
    "        print(index, row['Year'], row['Title'], row['Publisher'])"
   ]
  },
  {
   "cell_type": "code",
   "execution_count": 9,
   "id": "6312dd4b",
   "metadata": {},
   "outputs": [
    {
     "name": "stdout",
     "output_type": "stream",
     "text": [
      "1845\n",
      "1843\n",
      "1847\n",
      "1847\n",
      "1846\n",
      "1846\n",
      "1847\n",
      "1846\n",
      "1844\n",
      "1845\n",
      "1849\n",
      "1845\n",
      "1845\n",
      "1845\n",
      "1844\n",
      "1850\n",
      "1845\n",
      "1845\n",
      "1845\n",
      "1845\n"
     ]
    }
   ],
   "source": [
    "for y in filtered_df['Year']:\n",
    "    if type(y) == int and y > 1840 and y < 1851:\n",
    "        print(y)"
   ]
  },
  {
   "cell_type": "code",
   "execution_count": 10,
   "id": "adaad023",
   "metadata": {},
   "outputs": [
    {
     "name": "stdout",
     "output_type": "stream",
     "text": [
      "1857\n",
      "1851\n",
      "1855\n",
      "1852\n",
      "1852\n",
      "1857\n",
      "1854\n",
      "1859\n",
      "1855\n",
      "1857\n",
      "1858\n",
      "1860\n",
      "1857\n",
      "1858\n",
      "1855\n",
      "1855\n",
      "1855\n",
      "1855\n",
      "1855\n",
      "1851\n",
      "1852\n"
     ]
    }
   ],
   "source": [
    "for y in filtered_df['Year']:\n",
    "    if type(y) == int and y > 1850 and y < 1861:\n",
    "        print(y)"
   ]
  },
  {
   "cell_type": "code",
   "execution_count": 11,
   "id": "442d1c3a",
   "metadata": {},
   "outputs": [
    {
     "name": "stdout",
     "output_type": "stream",
     "text": [
      "1870\n",
      "1864\n",
      "1865\n",
      "1868\n",
      "1869\n",
      "1869\n",
      "1868\n",
      "1861\n",
      "1866\n",
      "1863\n",
      "1870\n",
      "1864\n",
      "1868\n"
     ]
    }
   ],
   "source": [
    "for y in filtered_df['Year']:\n",
    "    if type(y) == int and y > 1860 and y < 1871:\n",
    "        print(y)"
   ]
  },
  {
   "cell_type": "code",
   "execution_count": 12,
   "id": "bda7a13d",
   "metadata": {},
   "outputs": [
    {
     "name": "stdout",
     "output_type": "stream",
     "text": [
      "1873\n",
      "1874\n",
      "1874\n",
      "1877\n",
      "1875\n",
      "1875\n",
      "1872\n"
     ]
    }
   ],
   "source": [
    "for y in filtered_df['Year']:\n",
    "    if type(y) == int and y > 1870 and y < 1881:\n",
    "        print(y)"
   ]
  },
  {
   "cell_type": "code",
   "execution_count": 13,
   "id": "dd5397bf",
   "metadata": {},
   "outputs": [
    {
     "name": "stdout",
     "output_type": "stream",
     "text": [
      "1887\n",
      "1890\n",
      "1888\n",
      "1886\n",
      "1882\n",
      "1887\n",
      "1889\n",
      "1886\n",
      "1889\n",
      "1889\n",
      "1887\n",
      "1890\n",
      "1888\n",
      "1882\n",
      "1890\n",
      "1886\n",
      "1888\n"
     ]
    }
   ],
   "source": [
    "for y in filtered_df['Year']:\n",
    "    if type(y) == int and y > 1880 and y < 1891:\n",
    "        print(y)"
   ]
  },
  {
   "cell_type": "code",
   "execution_count": 14,
   "id": "d3332e63",
   "metadata": {},
   "outputs": [
    {
     "name": "stdout",
     "output_type": "stream",
     "text": [
      "1894\n",
      "1908\n",
      "1907\n",
      "1911\n",
      "1895\n",
      "1894\n",
      "1896\n",
      "1926\n",
      "1901\n",
      "1891\n",
      "1892\n",
      "1894\n",
      "1896\n",
      "1897\n",
      "1900\n"
     ]
    }
   ],
   "source": [
    "for y in filtered_df['Year']:\n",
    "    if type(y) == int and y > 1890:\n",
    "        print(y)"
   ]
  },
  {
   "cell_type": "code",
   "execution_count": 194,
   "id": "3c5dd88d",
   "metadata": {},
   "outputs": [],
   "source": [
    "#import pandas as pd\n",
    "#import networkx as nx\n",
    "\n",
    "excel_file = '19th_century_translations.xlsx'\n",
    "df = pd.read_excel(excel_file)\n",
    "\n",
    "G_thru_1850 = nx.MultiDiGraph()\n",
    "\n",
    "# Function to extract and sort years chronologically\n",
    "def extract_years(row, cutoff_year):\n",
    "    year = row['Year']\n",
    "    earlier = row['Earlier']\n",
    "    subsequent = row['Subsequent Listing']\n",
    "    \n",
    "    # Extract and filter years based on the cutoff year\n",
    "    all_years = []\n",
    "    if year not in ['[s.d.]', '185?', '18--', '185-', '????'] and int(year) < cutoff_year:\n",
    "    #if isinstance(year, (int, float)) and year < cutoff_year:\n",
    "        all_years.append(int(year))\n",
    "    \n",
    "    if isinstance(earlier, str) and earlier != 'nan':\n",
    "        earlier_years = [int(x.split()[0]) for x in earlier.split(',') if int(x.split()[0]) < cutoff_year]\n",
    "        all_years.extend(earlier_years)\n",
    "    \n",
    "    if isinstance(subsequent, str) and subsequent != 'nan':\n",
    "        subsequent_years = [int(x.split()[0]) for x in subsequent.split(',') if x != '185-' and int(x.split()[0]) < cutoff_year]\n",
    "        all_years.extend(subsequent_years)\n",
    "    \n",
    "    all_years = sorted(all_years)\n",
    "    return all_years\n",
    "\n",
    "filtered_df0 = df.iloc[0:179]\n",
    "\n",
    "\n",
    "# Define a function to check if year is valid\n",
    "def is_valid_year(x):\n",
    "    try:\n",
    "        year_int = int(x)\n",
    "        return year_int < 1851\n",
    "    except ValueError:\n",
    "        return False\n",
    "\n",
    "# Filter rows based on 'Year' column\n",
    "filtered_df = filtered_df0[filtered_df0['Year'].apply(lambda x: x not in ['[s.d.]', '185?', '18--', '185-', '????'] and is_valid_year(x))]\n",
    "\n",
    "\n",
    "unique_publishers = set()\n",
    "for publishers in filtered_df['Publisher']:\n",
    "    if isinstance(publishers, str):\n",
    "        unique_publishers.update([publisher.strip() for publisher in publishers.split(';')])\n",
    "    else:\n",
    "        unique_publishers.update([publishers])\n",
    "\n",
    "for publisher in unique_publishers:\n",
    "    G_thru_1850.add_node(publisher, publications=[])\n",
    "\n",
    "for index, row in filtered_df.iterrows():\n",
    "    title = row['Title']\n",
    "    years = extract_years(row, 1851)\n",
    "    editions = sum(1 for year in years) if years != [] else 0  # Calculate number of editions based on years before 1851\n",
    "    publishers = [publisher.strip() for publisher in row['Publisher'].split('; ')] if isinstance(row['Publisher'], str) else [row['Publisher']]\n",
    "    translator = row['Translator']\n",
    "    places = [place.strip() for place in row['Place of Publication'].split('; ')] if isinstance(row['Place of Publication'], str) else [str(row['Place of Publication']).strip()]\n",
    "\n",
    "    for publisher in unique_publishers:\n",
    "        if publisher in publishers:\n",
    "            G_thru_1850.nodes[publisher]['publications'].append({\n",
    "                'title': title,\n",
    "                'years': years,\n",
    "                'editions': [editions],\n",
    "                'publisher': publishers,\n",
    "                'translator': translator,\n",
    "                'place': places\n",
    "            })\n",
    "\n",
    "for publisher in G_thru_1850.nodes():\n",
    "    if 'publications' in G_thru_1850.nodes[publisher]:  # Check if 'publications' key exists\n",
    "        magnitude = sum(pub['editions'][0] for pub in G_thru_1850.nodes[publisher]['publications'])\n",
    "        G_thru_1850.nodes[publisher]['magnitude'] = magnitude\n"
   ]
  },
  {
   "cell_type": "code",
   "execution_count": null,
   "id": "bc7fd56f",
   "metadata": {},
   "outputs": [],
   "source": [
    "excel_file = '19th_century_translations.xlsx'\n",
    "df = pd.read_excel(excel_file)\n",
    "\n",
    "G_thru_1850_1 = nx.DiGraph()\n",
    "\n",
    "# Function to extract and sort years chronologically\n",
    "def extract_years(row, cutoff_year):\n",
    "    year = row['Year']\n",
    "    earlier = row['Earlier']\n",
    "    subsequent = row['Subsequent Listing']\n",
    "    \n",
    "    # Extract and filter years based on the cutoff year\n",
    "    all_years = []\n",
    "    if year not in ['[s.d.]', '185?', '18--', '185-', '????'] and int(year) < cutoff_year:\n",
    "    #if isinstance(year, (int, float)) and year < cutoff_year:\n",
    "        all_years.append(int(year))\n",
    "    \n",
    "    if isinstance(earlier, str) and earlier != 'nan':\n",
    "        earlier_years = [int(x.split()[0]) for x in earlier.split(',') if int(x.split()[0]) < cutoff_year]\n",
    "        all_years.extend(earlier_years)\n",
    "    \n",
    "    if isinstance(subsequent, str) and subsequent != 'nan':\n",
    "        subsequent_years = [int(x.split()[0]) for x in subsequent.split(',') if x != '185-' and int(x.split()[0]) < cutoff_year]\n",
    "        all_years.extend(subsequent_years)\n",
    "    \n",
    "    all_years = sorted(all_years)\n",
    "    return all_years\n",
    "\n",
    "filtered_df0 = df.iloc[0:179]\n",
    "\n",
    "\n",
    "# Define a function to check if year is valid\n",
    "def is_valid_year(x):\n",
    "    try:\n",
    "        year_int = int(x)\n",
    "        return year_int < 1851\n",
    "    except ValueError:\n",
    "        return False\n",
    "\n",
    "# Filter rows based on 'Year' column\n",
    "filtered_df = filtered_df0[filtered_df0['Year'].apply(lambda x: x not in ['[s.d.]', '185?', '18--', '185-', '????'] and is_valid_year(x))]\n",
    "\n",
    "\n",
    "unique_publishers = set()\n",
    "for publishers in filtered_df['Publisher']:\n",
    "    if isinstance(publishers, str):\n",
    "        unique_publishers.update([publisher.strip() for publisher in publishers.split(';')])\n",
    "    else:\n",
    "        unique_publishers.update([publishers])\n",
    "\n",
    "for publisher in unique_publishers:\n",
    "    G_thru_1850_1.add_node(publisher, publications=[])\n",
    "\n",
    "for index, row in filtered_df.iterrows():\n",
    "    title = row['Title']\n",
    "    years = extract_years(row, 1851)\n",
    "    editions = sum(1 for year in years) if years != [] else 0  # Calculate number of editions based on years before 1851\n",
    "    publishers = [publisher.strip() for publisher in row['Publisher'].split('; ')] if isinstance(row['Publisher'], str) else [row['Publisher']]\n",
    "    translator = row['Translator']\n",
    "    places = [place.strip() for place in row['Place of Publication'].split('; ')] if isinstance(row['Place of Publication'], str) else [str(row['Place of Publication']).strip()]\n",
    "\n",
    "    for publisher in unique_publishers:\n",
    "        if publisher in publishers:\n",
    "            G_thru_1850_1.nodes[publisher]['publications'].append({\n",
    "                'title': title,\n",
    "                'years': years,\n",
    "                'editions': [editions],\n",
    "                'publisher': publishers,\n",
    "                'translator': translator,\n",
    "                'place': places\n",
    "            })\n",
    "\n",
    "for publisher in G_thru_1850_1.nodes():\n",
    "    if 'publications' in G_thru_1850_1.nodes[publisher]:  # Check if 'publications' key exists\n",
    "        magnitude = sum(pub['editions'][0] for pub in G_thru_1850_1.nodes[publisher]['publications'])\n",
    "        G_thru_1850_1.nodes[publisher]['magnitude'] = magnitude\n"
   ]
  },
  {
   "cell_type": "code",
   "execution_count": 130,
   "id": "3822111b",
   "metadata": {},
   "outputs": [
    {
     "data": {
      "text/plain": [
       "NodeView(('James Duffy', 'Uknown', 'Thomas Richardson & Son', 'Flynn & Mahony', 'Thomas Sweeney', 'E. Cummiskey', 'P. Donahoe', 'John Coyne', 'Fielding Lucas, JR.', 'T.B. Noonan', 'Richard Grace', 'H. & C. McGrath', 'C. Wildermann'))"
      ]
     },
     "execution_count": 130,
     "metadata": {},
     "output_type": "execute_result"
    }
   ],
   "source": [
    "G_thru_1850.nodes()"
   ]
  },
  {
   "cell_type": "code",
   "execution_count": 131,
   "id": "c98614c4",
   "metadata": {},
   "outputs": [
    {
     "data": {
      "text/plain": [
       "31"
      ]
     },
     "execution_count": 131,
     "metadata": {},
     "output_type": "execute_result"
    }
   ],
   "source": [
    "G_thru_1850.nodes['James Duffy']['magnitude']"
   ]
  },
  {
   "cell_type": "code",
   "execution_count": 132,
   "id": "5794ef29",
   "metadata": {},
   "outputs": [
    {
     "data": {
      "text/plain": [
       "[{'title': 'An exposition and defence of all the points of faith discussed and defined by the Sacred Council of Trent along with a refutation of the errors of the pretended reformers and of the objections of Fra Paolo Sarpi',\n",
       "  'years': [1846],\n",
       "  'editions': [1],\n",
       "  'publisher': ['James Duffy'],\n",
       "  'translator': nan,\n",
       "  'place': ['Dublin']},\n",
       " {'title': 'Discourses on what the Son of God has done and suffered for us, particularly at his nativity. With meditations for Advent ..',\n",
       "  'years': [1843, 1846],\n",
       "  'editions': [2],\n",
       "  'publisher': ['James Duffy'],\n",
       "  'translator': 'A Catholic Clergyman',\n",
       "  'place': ['Dublin']},\n",
       " {'title': 'Considerations on the passion of Jesus Christ : with devout exercises for the Fourteen Stations of the holy way of the cross',\n",
       "  'years': [1845, 1846],\n",
       "  'editions': [2],\n",
       "  'publisher': ['James Duffy'],\n",
       "  'translator': nan,\n",
       "  'place': ['Dublin']},\n",
       " {'title': 'Reflections on the Passion',\n",
       "  'years': [1845],\n",
       "  'editions': [1],\n",
       "  'publisher': ['James Duffy'],\n",
       "  'translator': nan,\n",
       "  'place': ['Dublin']},\n",
       " {'title': 'Instructions to preachers : with miscellaneous letters, & c, & c, &c.',\n",
       "  'years': [1841],\n",
       "  'editions': [1],\n",
       "  'publisher': ['James Duffy'],\n",
       "  'translator': nan,\n",
       "  'place': ['Dublin']},\n",
       " {'title': 'A Short Treatise on Prayer',\n",
       "  'years': [1843, 1847],\n",
       "  'editions': [2],\n",
       "  'publisher': ['James Duffy'],\n",
       "  'translator': 'N. J. Callan',\n",
       "  'place': ['Dublin']},\n",
       " {'title': 'The Love of Our Lord Jesus Christ. Reduced to Practice',\n",
       "  'years': [1835],\n",
       "  'editions': [1],\n",
       "  'publisher': ['James Duffy'],\n",
       "  'translator': nan,\n",
       "  'place': ['Dublin']},\n",
       " {'title': 'The True Spouse of Jesus',\n",
       "  'years': [1844, 1848],\n",
       "  'editions': [2],\n",
       "  'publisher': ['James Duffy'],\n",
       "  'translator': 'A Catholic Clergyman; N.J. Callan',\n",
       "  'place': ['Dublin']},\n",
       " {'title': 'Visits to the Most Holy Sacrament',\n",
       "  'years': [1841, 1847],\n",
       "  'editions': [2],\n",
       "  'publisher': ['James Duffy'],\n",
       "  'translator': 'A Catholic Clergyman',\n",
       "  'place': ['Dublin']},\n",
       " {'title': 'Dissertations appertaining to eternal life : to which are added, devout reflections on spiritual subjects',\n",
       "  'years': [1844],\n",
       "  'editions': [1],\n",
       "  'publisher': ['James Duffy'],\n",
       "  'translator': nan,\n",
       "  'place': ['Dublin']},\n",
       " {'title': 'The Glories of Mary',\n",
       "  'years': [1845, 1847],\n",
       "  'editions': [2],\n",
       "  'publisher': ['James Duffy'],\n",
       "  'translator': 'A Catholic Clergyman',\n",
       "  'place': ['Dublin']},\n",
       " {'title': 'Preparation for Death',\n",
       "  'years': [1843, 1844],\n",
       "  'editions': [2],\n",
       "  'publisher': ['James Duffy'],\n",
       "  'translator': nan,\n",
       "  'place': ['Dublin']},\n",
       " {'title': 'The History Of Heresies And Their Refutation; or, The triumph of the church.',\n",
       "  'years': [1847],\n",
       "  'editions': [1],\n",
       "  'publisher': ['James Duffy'],\n",
       "  'translator': 'Right Rev. Dr. John Thomas Mullock',\n",
       "  'place': ['Dublin']},\n",
       " {'title': 'Victories of the martyrs',\n",
       "  'years': [1847],\n",
       "  'editions': [1],\n",
       "  'publisher': ['James Duffy'],\n",
       "  'translator': 'Bonaventure McLoughlin',\n",
       "  'place': ['Dublin']},\n",
       " {'title': 'The means of acquiring perfection',\n",
       "  'years': [1844],\n",
       "  'editions': [1],\n",
       "  'publisher': ['James Duffy'],\n",
       "  'translator': nan,\n",
       "  'place': ['Dublin']},\n",
       " {'title': 'On conversing continually and familiarly with God',\n",
       "  'years': [1845],\n",
       "  'editions': [1],\n",
       "  'publisher': ['James Duffy'],\n",
       "  'translator': nan,\n",
       "  'place': ['Dublin']},\n",
       " {'title': 'The Practice of Meditation',\n",
       "  'years': [1845],\n",
       "  'editions': [1],\n",
       "  'publisher': ['James Duffy'],\n",
       "  'translator': nan,\n",
       "  'place': ['Dublin']},\n",
       " {'title': 'Rules of a Christian life. Part 1 (1871)',\n",
       "  'years': [1845],\n",
       "  'editions': [1],\n",
       "  'publisher': ['James Duffy'],\n",
       "  'translator': nan,\n",
       "  'place': ['Dublin']},\n",
       " {'title': 'Rules of a Christian life. Part 2. The practice of Christian virtues',\n",
       "  'years': [1845],\n",
       "  'editions': [1],\n",
       "  'publisher': ['James Duffy'],\n",
       "  'translator': nan,\n",
       "  'place': ['Dublin']},\n",
       " {'title': 'Examen of Conscience',\n",
       "  'years': [1844],\n",
       "  'editions': [1],\n",
       "  'publisher': ['James Duffy'],\n",
       "  'translator': nan,\n",
       "  'place': ['Dublin']},\n",
       " {'title': 'Obligations of children and parents',\n",
       "  'years': [1845],\n",
       "  'editions': [1],\n",
       "  'publisher': ['James Duffy'],\n",
       "  'translator': nan,\n",
       "  'place': ['Dublin']},\n",
       " {'title': 'Novena of the sacred heart of Jesus [n.d.]',\n",
       "  'years': [1845],\n",
       "  'editions': [1],\n",
       "  'publisher': ['James Duffy'],\n",
       "  'translator': nan,\n",
       "  'place': ['Dublin']},\n",
       " {'title': 'On the virtue of chastity; the enormity of the sin of impurity; and the remedies against this horrible vice (1875)',\n",
       "  'years': [1845],\n",
       "  'editions': [1],\n",
       "  'publisher': ['James Duffy'],\n",
       "  'translator': 'A Catholic Clergyman',\n",
       "  'place': ['Dublin']},\n",
       " {'title': 'On the injuries done to our neighbour in his person, character, property etc. [n.d.]',\n",
       "  'years': [1845],\n",
       "  'editions': [1],\n",
       "  'publisher': ['James Duffy'],\n",
       "  'translator': 'A Catholic Clergyman',\n",
       "  'place': ['Dublin']}]"
      ]
     },
     "execution_count": 132,
     "metadata": {},
     "output_type": "execute_result"
    }
   ],
   "source": [
    "G_thru_1850.nodes['James Duffy']['publications']"
   ]
  },
  {
   "cell_type": "code",
   "execution_count": 133,
   "id": "233e339e",
   "metadata": {},
   "outputs": [
    {
     "name": "stdout",
     "output_type": "stream",
     "text": [
      "James Duffy 31\n",
      "Uknown 1\n",
      "Thomas Richardson & Son 1\n",
      "Flynn & Mahony 1\n",
      "Thomas Sweeney 2\n",
      "E. Cummiskey 1\n",
      "P. Donahoe 1\n",
      "John Coyne 7\n",
      "Fielding Lucas, JR. 8\n",
      "T.B. Noonan 1\n",
      "Richard Grace 5\n",
      "H. & C. McGrath 2\n",
      "C. Wildermann 1\n"
     ]
    }
   ],
   "source": [
    "for node_id, data in G_thru_1850.nodes(data=True):\n",
    "    print(node_id, data['magnitude'])"
   ]
  },
  {
   "cell_type": "code",
   "execution_count": 134,
   "id": "2070cda1",
   "metadata": {},
   "outputs": [],
   "source": [
    "\n",
    "#def add_edge_with_attributes(G, publisher_A, publisher_B, title, source_years, target_years,\n",
    "                             source_translator, target_translator, source_num_editions,\n",
    "                             target_num_editions, source_place, target_place, weight, relation):\n",
    "    G.add_edge(publisher_A, publisher_B, title=title, source_years=source_years, target_years=target_years,\n",
    "               source_translator=source_translator, target_translator=target_translator,\n",
    "               source_num_editions=source_num_editions, target_num_editions=target_num_editions,\n",
    "               source_place=source_place, target_place=target_place, weight=weight, relation=relation)"
   ]
  },
  {
   "cell_type": "code",
   "execution_count": 195,
   "id": "5616777c",
   "metadata": {},
   "outputs": [],
   "source": [
    "def add_edge_with_attributes(G, publisher_A, publisher_B, title, source_years, target_years,\n",
    "                             source_translator, target_translator, source_num_editions,\n",
    "                             target_num_editions, source_place, target_place, weight, relation, key):\n",
    "    G.add_edge(publisher_A, publisher_B, title=title, source_years=source_years, target_years=target_years,\n",
    "               source_translator=source_translator, target_translator=target_translator,\n",
    "               source_num_editions=source_num_editions, target_num_editions=target_num_editions,\n",
    "               source_place=source_place, target_place=target_place, weight=weight, relation=relation, key=key)"
   ]
  },
  {
   "cell_type": "code",
   "execution_count": 197,
   "id": "25ff4068",
   "metadata": {},
   "outputs": [],
   "source": [
    "def add_edges_between_publishers(G, publisher_A, publisher_B, publication_A, publication_B):\n",
    "    years_A = publication_A['years']\n",
    "    years_B = publication_B['years']\n",
    "    translators_A = publication_A['translator']\n",
    "    translators_B = publication_B['translator']\n",
    "    \n",
    "    if not pd.isna(translators_A) and not pd.isna(translators_B):\n",
    "                same_translator = ((translators_A == translators_B) or (translators_A in translators_B) or (translators_B in translators_A))\n",
    "    else:\n",
    "                same_translator = False\n",
    "            \n",
    "    if pd.isna(translators_A) or 'not named' in translators_A or 'not mentioned' in translators_A or 'None' in translators_A:\n",
    "                same_translator = False\n",
    "    if pd.isna(translators_B) or 'not named' in translators_B or 'not mentioned' in translators_B or 'None' in translators_B:\n",
    "                same_translator = False\n",
    "    \n",
    "    # Check for copublication relation\n",
    "    if publication_A['publisher'] == publication_B['publisher'] and publication_A['title'] == publication_B['title'] and set(years_A) == set(years_B):\n",
    "        weight = max(publication_A['editions'], publication_B['editions'])\n",
    "        # Add copublication edge with a unique key based on the relation type\n",
    "        edge_key = f\"copub_{publisher_A}_{publisher_B}_{publication_A['title']}\"\n",
    "        add_edge_with_attributes(G, publisher_A, publisher_B, publication_A['title'], \n",
    "                                 years_A, years_B, translators_A, translators_B,\n",
    "                                 publication_A['editions'], publication_B['editions'],\n",
    "                                 publication_A['place'], publication_B['place'],\n",
    "                                 weight, 'copublication', key=edge_key)\n",
    "\n",
    "    # Check for reprint relation\n",
    "    if translators_A == translators_B and publication_A['title'] == publication_B['title'] and years_A and years_B and years_A[0] < years_B[0] and publication_A['publisher'] != publication_B['publisher']:\n",
    "        weight = publication_B['editions']\n",
    "        # Add reprint edge with a unique key based on the relation type\n",
    "        edge_key = f\"reprint_{publisher_A}_{publisher_B}_{publication_A['title']}\"\n",
    "        add_edge_with_attributes(G, publisher_A, publisher_B, publication_A['title'], \n",
    "                                 years_A, years_B, translators_A, translators_B,\n",
    "                                 publication_A['editions'], publication_B['editions'],\n",
    "                                 publication_A['place'], publication_B['place'],\n",
    "                                 weight, 'reprint', key=edge_key)\n",
    "\n",
    "    # Check for retranslation relation\n",
    "    if translators_A != translators_B and publication_A['title'] == publication_B['title'] and years_A and years_B and years_A[0] < years_B[0] and publication_A['publisher'] != publication_B['publisher']:\n",
    "        weight = publication_B['editions']\n",
    "        # Add retranslation edge with a unique key based on the relation type\n",
    "        edge_key = f\"retrans_{publisher_A}_{publisher_B}_{publication_A['title']}\"\n",
    "        add_edge_with_attributes(G, publisher_A, publisher_B, publication_A['title'], \n",
    "                                 years_A, years_B, translators_A, translators_B,\n",
    "                                 publication_A['editions'], publication_B['editions'],\n",
    "                                 publication_A['place'], publication_B['place'],\n",
    "                                 weight, 'retranslation', key=edge_key)\n",
    "\n",
    "# Iterate over combinations of nodes (publishers)\n",
    "for publisher_A, publisher_B in itertools.combinations(G_thru_1850.nodes(), 2):\n",
    "    publications_A = G_thru_1850.nodes[publisher_A][\"publications\"]\n",
    "    publications_B = G_thru_1850.nodes[publisher_B][\"publications\"]\n",
    "    \n",
    "    # Iterate over publications of each publisher pair\n",
    "    for publication_A in publications_A:\n",
    "        for publication_B in publications_B:\n",
    "            # Add edges based on different relations\n",
    "            add_edges_between_publishers(G_thru_1850, publisher_A, publisher_B, publication_A, publication_B)\n"
   ]
  },
  {
   "cell_type": "code",
   "execution_count": 196,
   "id": "250089d5",
   "metadata": {},
   "outputs": [
    {
     "name": "stdout",
     "output_type": "stream",
     "text": [
      "James Duffy, Magnitude: 31\n",
      "Fielding Lucas, JR., Magnitude: 8\n",
      "John Coyne, Magnitude: 7\n",
      "Richard Grace, Magnitude: 5\n",
      "Thomas Sweeney, Magnitude: 2\n",
      "H. & C. McGrath, Magnitude: 2\n",
      "Uknown, Magnitude: 1\n",
      "Thomas Richardson & Son, Magnitude: 1\n",
      "Flynn & Mahony, Magnitude: 1\n",
      "E. Cummiskey, Magnitude: 1\n",
      "P. Donahoe, Magnitude: 1\n",
      "T.B. Noonan, Magnitude: 1\n",
      "C. Wildermann, Magnitude: 1\n"
     ]
    }
   ],
   "source": [
    "sorted_nodes = sorted(G_thru_1850.nodes(data=True), key=lambda x: x[1].get('magnitude', 0), reverse=True)\n",
    "\n",
    "# Print nodes in descending order of magnitude\n",
    "for node, attrs in sorted_nodes:\n",
    "    print(f\"{node}, Magnitude: {attrs.get('magnitude', 0)}\")"
   ]
  },
  {
   "cell_type": "code",
   "execution_count": 198,
   "id": "a0b490a4",
   "metadata": {},
   "outputs": [
    {
     "data": {
      "text/plain": [
       "11"
      ]
     },
     "execution_count": 198,
     "metadata": {},
     "output_type": "execute_result"
    }
   ],
   "source": [
    "len(G_thru_1850.edges())"
   ]
  },
  {
   "cell_type": "code",
   "execution_count": 53,
   "id": "13d96e22",
   "metadata": {},
   "outputs": [
    {
     "data": {
      "text/plain": [
       "NodeView(('James Duffy', 'H. & C. McGrath', 'Flynn & Mahony', 'Thomas Sweeney', 'C. Wildermann', 'E. Cummiskey', 'P. Donahoe', 'T.B. Noonan'))"
      ]
     },
     "execution_count": 53,
     "metadata": {},
     "output_type": "execute_result"
    }
   ],
   "source": [
    "G_combined_thru_1850.nodes()"
   ]
  },
  {
   "cell_type": "code",
   "execution_count": 199,
   "id": "46ccc40a",
   "metadata": {},
   "outputs": [
    {
     "name": "stdout",
     "output_type": "stream",
     "text": [
      "Nodes ordered by outgoing degree:\n",
      "James Duffy 5\n",
      "Fielding Lucas, JR. 3\n",
      "Flynn & Mahony 2\n",
      "John Coyne 1\n",
      "Uknown 0\n",
      "Thomas Richardson & Son 0\n",
      "Thomas Sweeney 0\n",
      "E. Cummiskey 0\n",
      "P. Donahoe 0\n",
      "T.B. Noonan 0\n",
      "Richard Grace 0\n",
      "H. & C. McGrath 0\n",
      "C. Wildermann 0\n",
      "\n",
      "Nodes ordered by incoming degree:\n",
      "Richard Grace 6\n",
      "Uknown 1\n",
      "Thomas Sweeney 1\n",
      "Fielding Lucas, JR. 1\n",
      "H. & C. McGrath 1\n",
      "C. Wildermann 1\n",
      "James Duffy 0\n",
      "Thomas Richardson & Son 0\n",
      "Flynn & Mahony 0\n",
      "E. Cummiskey 0\n",
      "P. Donahoe 0\n",
      "John Coyne 0\n",
      "T.B. Noonan 0\n",
      "\n",
      "Nodes ordered by overall degree:\n",
      "Richard Grace 6\n",
      "James Duffy 5\n",
      "Fielding Lucas, JR. 4\n",
      "Flynn & Mahony 2\n",
      "Uknown 1\n",
      "Thomas Sweeney 1\n",
      "John Coyne 1\n",
      "H. & C. McGrath 1\n",
      "C. Wildermann 1\n",
      "Thomas Richardson & Son 0\n",
      "E. Cummiskey 0\n",
      "P. Donahoe 0\n",
      "T.B. Noonan 0\n"
     ]
    }
   ],
   "source": [
    "out_degrees_50 = dict(G_thru_1850.out_degree())\n",
    "in_degrees_50 = dict(G_thru_1850.in_degree())\n",
    "overall_degrees_50 = {node: out_degrees_50.get(node, 0) + in_degrees_50.get(node, 0) for node in G_thru_1850.nodes()}\n",
    "\n",
    "nodes_by_out_degree_50 = sorted(out_degrees_50, key=out_degrees_50.get, reverse=True)\n",
    "nodes_by_in_degree_50 = sorted(in_degrees_50, key=in_degrees_50.get, reverse=True)\n",
    "nodes_by_overall_degree_50 = sorted(overall_degrees_50, key=overall_degrees_50.get, reverse=True)\n",
    "\n",
    "print(\"Nodes ordered by outgoing degree:\")\n",
    "for node in nodes_by_out_degree_50:\n",
    "    print(node, out_degrees_50[node])\n",
    "\n",
    "print(\"\\nNodes ordered by incoming degree:\")\n",
    "for node in nodes_by_in_degree_50:\n",
    "    print(node, in_degrees_50[node])\n",
    "\n",
    "print(\"\\nNodes ordered by overall degree:\")\n",
    "for node in nodes_by_overall_degree_50:\n",
    "    print(node, overall_degrees_50[node])"
   ]
  },
  {
   "cell_type": "code",
   "execution_count": 200,
   "id": "5902e704",
   "metadata": {},
   "outputs": [
    {
     "name": "stdout",
     "output_type": "stream",
     "text": [
      "Outgoing Weighted Degrees: {'James Duffy': 5, 'Flynn & Mahony': 3, 'Fielding Lucas, JR.': 3, 'John Coyne': 1, 'Uknown': 0, 'Thomas Richardson & Son': 0, 'Thomas Sweeney': 0, 'E. Cummiskey': 0, 'P. Donahoe': 0, 'T.B. Noonan': 0, 'Richard Grace': 0, 'H. & C. McGrath': 0, 'C. Wildermann': 0}\n",
      "Incoming Weighted Degrees: {'Richard Grace': 6, 'Thomas Sweeney': 2, 'Uknown': 1, 'Fielding Lucas, JR.': 1, 'H. & C. McGrath': 1, 'C. Wildermann': 1, 'James Duffy': 0, 'Thomas Richardson & Son': 0, 'Flynn & Mahony': 0, 'E. Cummiskey': 0, 'P. Donahoe': 0, 'John Coyne': 0, 'T.B. Noonan': 0}\n",
      "Overall Weighted Degrees: {'Richard Grace': 6, 'James Duffy': 5, 'Fielding Lucas, JR.': 4, 'Flynn & Mahony': 3, 'Thomas Sweeney': 2, 'Uknown': 1, 'John Coyne': 1, 'H. & C. McGrath': 1, 'C. Wildermann': 1, 'Thomas Richardson & Son': 0, 'E. Cummiskey': 0, 'P. Donahoe': 0, 'T.B. Noonan': 0}\n"
     ]
    }
   ],
   "source": [
    "\n",
    "outgoing_weighted_degrees = {}\n",
    "incoming_weighted_degrees = {}\n",
    "overall_weighted_degrees = {}\n",
    "\n",
    "for node in G_thru_1850.nodes():\n",
    "    successors = []\n",
    "    for node_id in G_thru_1850.successors(node):\n",
    "        successors.append(node_id)\n",
    "    weights = []\n",
    "    for u, v, key, attr in G_thru_1850.edges(keys=True, data=True):\n",
    "        if (u in successors and v == node) or (u == node and v in successors):\n",
    "            weight = attr['weight']\n",
    "            weights.append(sum(weight))\n",
    "    #outgoing_weight = sum(sum(G11.edges[node, neighbor]['weight']) for neighbor in G11.successors(node))\n",
    "    outgoing_weighted_degrees[node] = sum(weights)\n",
    "\n",
    "for node in G_thru_1850.nodes():\n",
    "    predecessors = []\n",
    "    for node_id in G_thru_1850.predecessors(node):\n",
    "        predecessors.append(node_id)\n",
    "    weights = []\n",
    "    for u, v, key, attr in G_thru_1850.edges(keys=True, data=True):\n",
    "        if (u in predecessors and v == node) or (u == node and v in predecessors):\n",
    "            weight = attr['weight']\n",
    "            weights.append(sum(weight))\n",
    "    #incoming_weight = sum(sum(G11.edges[neighbor, node]['weight']) for neighbor in G11.predecessors(node))\n",
    "    incoming_weighted_degrees[node] = sum(weights)\n",
    "\n",
    "for node in G_thru_1850.nodes():\n",
    "    overall_weighted_degree = outgoing_weighted_degrees.get(node, 0) + incoming_weighted_degrees.get(node, 0)\n",
    "    overall_weighted_degrees[node] = overall_weighted_degree\n",
    "\n",
    "sorted_outgoing_weighted_degrees = dict(sorted(outgoing_weighted_degrees.items(), key=lambda item: item[1], reverse=True))\n",
    "sorted_incoming_weighted_degrees = dict(sorted(incoming_weighted_degrees.items(), key=lambda item: item[1], reverse=True))\n",
    "sorted_overall_weighted_degrees = dict(sorted(overall_weighted_degrees.items(), key=lambda item: item[1], reverse=True))\n",
    "\n",
    "print(\"Outgoing Weighted Degrees:\", sorted_outgoing_weighted_degrees)\n",
    "print(\"Incoming Weighted Degrees:\", sorted_incoming_weighted_degrees)\n",
    "print(\"Overall Weighted Degrees:\", sorted_overall_weighted_degrees)\n"
   ]
  },
  {
   "cell_type": "code",
   "execution_count": 201,
   "id": "e2bb9150",
   "metadata": {},
   "outputs": [
    {
     "name": "stdout",
     "output_type": "stream",
     "text": [
      "Sorted Source Places: [('Dublin', 6), ('Baltimore', 3), ('New York', 2), ('Boston', 2)]\n",
      "Sorted Target Places: [('Dublin', 6), ('Boston', 2), ('nan', 1), ('Baltimore', 1), ('Philadelphia', 1), ('New York', 1)]\n",
      "Sorted Overall Places: [('Dublin', 12), ('Baltimore', 4), ('Boston', 4), ('New York', 3), ('nan', 1), ('Philadelphia', 1)]\n"
     ]
    }
   ],
   "source": [
    "from collections import Counter\n",
    "\n",
    "\n",
    "source_place_counter = Counter()\n",
    "target_place_counter = Counter()\n",
    "overall_place_counter = Counter()\n",
    "\n",
    "\n",
    "for publisher_A, publisher_B, data in G_thru_1850.edges(data=True):\n",
    "    if isinstance(data['source_place'], list):\n",
    "        source_places = data['source_place']\n",
    "    else:\n",
    "        source_places = [data['source_place']]\n",
    "    if isinstance(data['target_place'], list):\n",
    "        target_places = data['target_place']\n",
    "    else:\n",
    "        target_places = [data['target_place']]\n",
    "\n",
    "    \n",
    "    for i, place_list in enumerate(source_places):\n",
    "        if isinstance(place_list, str):\n",
    "            source_places[i] = [place_list]\n",
    "    \n",
    "    for i, place_list in enumerate(target_places):\n",
    "        if isinstance(place_list, str):\n",
    "            #place_list = [place_list]\n",
    "            target_places[i] = [place_list]\n",
    "            \n",
    "    for place_list in source_places:\n",
    "        for place in place_list:\n",
    "            source_place_counter[place] += 1\n",
    "            \n",
    "    for place_list in target_places:\n",
    "        for place in place_list:\n",
    "            target_place_counter[place] += 1\n",
    "    \n",
    "    for place_list in source_places + target_places:\n",
    "        #if isinstance(place_list, str):\n",
    "            #place_list = [place_list]  # Convert string to list\n",
    "        for place in place_list:\n",
    "            overall_place_counter[place] += 1\n",
    "\n",
    "\n",
    "sorted_source_places_50 = source_place_counter.most_common()\n",
    "sorted_target_places_50 = target_place_counter.most_common()\n",
    "sorted_overall_places_50 = overall_place_counter.most_common()\n",
    "\n",
    "\n",
    "print(\"Sorted Source Places:\", sorted_source_places_50)\n",
    "print(\"Sorted Target Places:\", sorted_target_places_50)\n",
    "print(\"Sorted Overall Places:\", sorted_overall_places_50)\n"
   ]
  },
  {
   "cell_type": "code",
   "execution_count": 202,
   "id": "8fab76e2",
   "metadata": {},
   "outputs": [
    {
     "name": "stdout",
     "output_type": "stream",
     "text": [
      "Sorted Source Places (Weighted): [('Dublin', 6), ('New York', 3), ('Boston', 3), ('Baltimore', 3)]\n",
      "Sorted Target Places (Weighted): [('Dublin', 6), ('Boston', 3), ('nan', 1), ('Baltimore', 1), ('Philadelphia', 1), ('New York', 1)]\n",
      "Sorted Overall Places (Weighted): [('Dublin', 12), ('Boston', 6), ('Baltimore', 4), ('New York', 4), ('nan', 1), ('Philadelphia', 1)]\n"
     ]
    }
   ],
   "source": [
    "source_place_counter_weighted = Counter()\n",
    "target_place_counter_weighted = Counter()\n",
    "overall_place_counter_weighted = Counter()\n",
    "\n",
    "for publisher_A, publisher_B, data in  G_thru_1850.edges(data=True):\n",
    "    # Get the weight of the current edge\n",
    "    weight = data['weight']\n",
    "    \n",
    "    if isinstance(data['source_place'], list):\n",
    "        source_places = data['source_place']\n",
    "    else:\n",
    "        source_places = [data['source_place']]\n",
    "        \n",
    "    if isinstance(data['target_place'], list):\n",
    "        target_places = data['target_place']\n",
    "    else:\n",
    "        target_places = [data['target_place']]\n",
    "\n",
    "    for i, place_list in enumerate(source_places):\n",
    "        if isinstance(place_list, str):\n",
    "            source_places[i] = [place_list]\n",
    "\n",
    "    for i, place_list in enumerate(target_places):\n",
    "        if isinstance(place_list, str):\n",
    "            target_places[i] = [place_list]\n",
    "\n",
    "    for place_list in source_places:\n",
    "        for place in place_list:\n",
    "            source_place_counter_weighted[place] += weight[0]\n",
    "\n",
    "    for place_list in target_places:\n",
    "        for place in place_list:\n",
    "            target_place_counter_weighted[place] += weight[0]\n",
    "\n",
    "    for place_list in source_places + target_places:\n",
    "        for place in place_list:\n",
    "            overall_place_counter_weighted[place] += weight[0]\n",
    "\n",
    "sorted_source_places_weighted_50 = source_place_counter_weighted.most_common()\n",
    "sorted_target_places_weighted_50 = target_place_counter_weighted.most_common()\n",
    "sorted_overall_places_weighted_50 = overall_place_counter_weighted.most_common()\n",
    "\n",
    "print(\"Sorted Source Places (Weighted):\", sorted_source_places_weighted_50)\n",
    "print(\"Sorted Target Places (Weighted):\", sorted_target_places_weighted_50)\n",
    "print(\"Sorted Overall Places (Weighted):\", sorted_overall_places_weighted_50)\n"
   ]
  },
  {
   "cell_type": "code",
   "execution_count": 203,
   "id": "9000b6f3",
   "metadata": {},
   "outputs": [
    {
     "data": {
      "text/plain": [
       "11"
      ]
     },
     "execution_count": 203,
     "metadata": {},
     "output_type": "execute_result"
    }
   ],
   "source": [
    "len(G_thru_1850.edges())"
   ]
  },
  {
   "cell_type": "code",
   "execution_count": 204,
   "id": "73296190",
   "metadata": {},
   "outputs": [
    {
     "name": "stdout",
     "output_type": "stream",
     "text": [
      "Title and number of connections between publishers it occasioned: ('The Love of Our Lord Jesus Christ. Reduced to Practice', 3) | Source Places: {'Baltimore', 'Dublin'} | Target Places: {'Baltimore', 'Dublin'}\n",
      "Title and number of connections between publishers it occasioned: ('A Short Treatise on Prayer', 3) | Source Places: {'Baltimore', 'Dublin'} | Target Places: {'Dublin'}\n",
      "Title and number of connections between publishers it occasioned: ('Instructions on the Commandments', 2) | Source Places: {'New York', 'Boston'} | Target Places: {'New York', 'Boston'}\n",
      "Title and number of connections between publishers it occasioned: ('Visits to the Most Holy Sacrament', 1) | Source Places: {'Dublin'} | Target Places: {'nan'}\n",
      "Title and number of connections between publishers it occasioned: ('Examen of Conscience', 1) | Source Places: {'Dublin'} | Target Places: {'Philadelphia'}\n",
      "Title and number of connections between publishers it occasioned: ('The Spirit Of Blessed Alphonsus De Liguori', 1) | Source Places: {'Baltimore'} | Target Places: {'Dublin'}\n",
      "Title and weighted number of connections between publishers it occasioned: ('The Love of Our Lord Jesus Christ. Reduced to Practice', 3) | Source Places: {'Baltimore', 'Dublin'} | Target Places: {'Baltimore', 'Dublin'}\n",
      "Title and weighted number of connections between publishers it occasioned: ('A Short Treatise on Prayer', 3) | Source Places: {'Baltimore', 'Dublin'} | Target Places: {'Dublin'}\n",
      "Title and weighted number of connections between publishers it occasioned: ('Instructions on the Commandments', 3) | Source Places: {'New York', 'Boston'} | Target Places: {'New York', 'Boston'}\n",
      "Title and weighted number of connections between publishers it occasioned: ('Visits to the Most Holy Sacrament', 1) | Source Places: {'Dublin'} | Target Places: {'nan'}\n",
      "Title and weighted number of connections between publishers it occasioned: ('Examen of Conscience', 1) | Source Places: {'Dublin'} | Target Places: {'Philadelphia'}\n",
      "Title and weighted number of connections between publishers it occasioned: ('The Spirit Of Blessed Alphonsus De Liguori', 1) | Source Places: {'Baltimore'} | Target Places: {'Dublin'}\n"
     ]
    }
   ],
   "source": [
    "#from collections import Counter\n",
    "\n",
    "# Initialize counters for unweighted and weighted titles\n",
    "unweighted_title_counter = Counter()\n",
    "weighted_title_counter = Counter()\n",
    "\n",
    "# Initialize dictionaries to store concatenated source and target places for each title\n",
    "title_source_places = {}\n",
    "title_target_places = {}\n",
    "\n",
    "# Iterate over edges in the graph\n",
    "for publisher_A, publisher_B, data in G_thru_1850.edges(data=True):\n",
    "    title = data['title']\n",
    "    weight = data['weight']\n",
    "    \n",
    "    # Increment the unweighted and weighted title counters\n",
    "    unweighted_title_counter[title] += 1\n",
    "    weighted_title_counter[title] += weight[0]\n",
    "    \n",
    "    if isinstance(data['source_place'], list):\n",
    "        source_places = data['source_place']\n",
    "    else:\n",
    "        source_places = [data['source_place']]\n",
    "    if isinstance(data['target_place'], list):\n",
    "        target_places = data['target_place']\n",
    "    else:\n",
    "        target_places = [data['target_place']]\n",
    "\n",
    "    for i, place_list in enumerate(source_places):\n",
    "        if isinstance(place_list, str):\n",
    "            source_places[i] = [place_list]\n",
    "\n",
    "    for i, place_list in enumerate(target_places):\n",
    "        if isinstance(place_list, str):\n",
    "            target_places[i] = [place_list]\n",
    "    \n",
    "    if title not in title_source_places:\n",
    "                title_source_places[title] = [] \n",
    "            \n",
    "    for place_list in source_places:\n",
    "        for place in place_list:\n",
    "            title_source_places[title].append(place)\n",
    "    \n",
    "    if title not in title_target_places:\n",
    "                title_target_places[title] = [] \n",
    "            \n",
    "    for place_list in target_places:\n",
    "        for place in place_list:          \n",
    "            title_target_places[title].append(place)\n",
    "            \n",
    "    \n",
    "sorted_unweighted_titles_50 = unweighted_title_counter.most_common()\n",
    "\n",
    "# Sort titles based on weighted occurrences\n",
    "sorted_weighted_titles_50 = weighted_title_counter.most_common()\n",
    "\n",
    "for elem in sorted_unweighted_titles_50:\n",
    "    print(f\"Title and number of connections between publishers it occasioned: {elem} | Source Places: {set(title_source_places[elem[0]])} | Target Places: {set(title_target_places[elem[0]])}\")\n",
    "\n",
    "for ele in sorted_weighted_titles_50:\n",
    "\n",
    "    print(f\"Title and weighted number of connections between publishers it occasioned: {ele} | Source Places: {set(title_source_places[ele[0]])} | Target Places: {set(title_target_places[ele[0]])}\")\n"
   ]
  },
  {
   "cell_type": "code",
   "execution_count": 119,
   "id": "8aea0f65",
   "metadata": {},
   "outputs": [
    {
     "name": "stdout",
     "output_type": "stream",
     "text": [
      "James Duffy and H. & C. McGrath as retranslation\n"
     ]
    }
   ],
   "source": [
    "for u, v, data in G_thru_1850.edges(data = True):\n",
    "    if 'Examen of Conscience' in data['title']:\n",
    "        print(u, \"and\", v, \"as\", data['relation'])"
   ]
  },
  {
   "cell_type": "code",
   "execution_count": 205,
   "id": "81d23629",
   "metadata": {},
   "outputs": [
    {
     "name": "stdout",
     "output_type": "stream",
     "text": [
      "James Duffy and Uknown for Visits to the Most Holy Sacrament from [['Dublin']] to [['nan']] as retranslation\n",
      "James Duffy and Fielding Lucas, JR. for The Love of Our Lord Jesus Christ. Reduced to Practice from [['Dublin']] to [['Baltimore']] as retranslation\n",
      "James Duffy and Richard Grace for A Short Treatise on Prayer from [['Dublin']] to [['Dublin']] as retranslation\n",
      "James Duffy and Richard Grace for The Love of Our Lord Jesus Christ. Reduced to Practice from [['Dublin']] to [['Dublin']] as retranslation\n",
      "James Duffy and H. & C. McGrath for Examen of Conscience from [['Dublin']] to [['Philadelphia']] as retranslation\n",
      "Flynn & Mahony and Thomas Sweeney for Instructions on the Commandments from [['New York'], ['Boston']] to [['Boston']] as retranslation\n",
      "Flynn & Mahony and C. Wildermann for Instructions on the Commandments from [['New York'], ['Boston']] to [['New York'], ['Boston']] as copublication\n",
      "John Coyne and Richard Grace for A Short Treatise on Prayer from [['Dublin']] to [['Dublin']] as retranslation\n",
      "Fielding Lucas, JR. and Richard Grace for A Short Treatise on Prayer from [['Baltimore']] to [['Dublin']] as retranslation\n",
      "Fielding Lucas, JR. and Richard Grace for The Spirit Of Blessed Alphonsus De Liguori from [['Baltimore']] to [['Dublin']] as reprint\n",
      "Fielding Lucas, JR. and Richard Grace for The Love of Our Lord Jesus Christ. Reduced to Practice from [['Baltimore']] to [['Dublin']] as retranslation\n"
     ]
    }
   ],
   "source": [
    "for u, v, data in G_thru_1850.edges(data = True):\n",
    "    #if (('Dublin' in data['target_place']) or (data['target_place'] == 'Dublin')):\n",
    "        print(u, \"and\", v, \"for\", data['title'], \"from\", data['source_place'], \"to\", data['target_place'], \"as\", data['relation'])"
   ]
  },
  {
   "cell_type": "code",
   "execution_count": null,
   "id": "37d00579",
   "metadata": {},
   "outputs": [],
   "source": []
  },
  {
   "cell_type": "code",
   "execution_count": 121,
   "id": "f6e8c6db",
   "metadata": {},
   "outputs": [],
   "source": [
    "G_combined_thru_1850 = nx.DiGraph()\n",
    "\n",
    "for u, v, data in G_thru_1850.edges(data=True):\n",
    "    if G_combined_thru_1850.has_edge(u, v):\n",
    "        # If the edge exists, update the weight attribute by adding the current edge's weight\n",
    "        G_combined_thru_1850[u][v]['weight'] += data['weight']\n",
    "    else:\n",
    "        G_combined_thru_1850.add_edge(u, v, weight=data['weight'])\n",
    "\n",
    "    if not G_combined_thru_1850.has_node(u):\n",
    "        G_combined_thru_1850.add_node(u, magnitude=G_thru_1850.nodes[u].get('magnitude', 1))  # Default magnitude to 1 if not present\n",
    "    else:\n",
    "        G_combined_thru_1850.nodes[u]['magnitude'] = G_thru_1850.nodes[u].get('magnitude', 1)\n",
    "\n",
    "    if not G_combined_thru_1850.has_node(v):\n",
    "        G_combined_thru_1850.add_node(v, magnitude=G_thru_1850.nodes[v].get('magnitude', 1))  # Default magnitude to 1 if not present\n",
    "    else:\n",
    "        G_combined_thru_1850.nodes[v]['magnitude'] = G_thru_1850.nodes[v].get('magnitude', 1)\n",
    "\n",
    "for u, v, data in G_combined_thru_1850.edges(data=True):\n",
    "    data['weight'] = sum(data['weight'])\n",
    "\n",
    "for node, data in G_thru_1850.nodes(data=True):\n",
    "    if not G_combined_thru_1850.has_node(node):\n",
    "        G_combined_thru_1850.add_node(node, magnitude=G_thru_1850.nodes[node].get('magnitude', 1))\n",
    "        \n",
    "node_sizes = [G_combined_thru_1850.nodes[node].get('magnitude', 1) for node in G_combined_thru_1850.nodes()]"
   ]
  },
  {
   "cell_type": "code",
   "execution_count": 55,
   "id": "8e79f207",
   "metadata": {},
   "outputs": [],
   "source": [
    "closeness_centralities = nx.closeness_centrality(G_combined_thru_1850)\n",
    "\n",
    "betweenness_centralities = nx.betweenness_centrality(G_combined_thru_1850)\n",
    "\n",
    "eigenvector_centralities = nx.eigenvector_centrality(G_combined_thru_1850)"
   ]
  },
  {
   "cell_type": "code",
   "execution_count": 56,
   "id": "a635b2e3",
   "metadata": {},
   "outputs": [],
   "source": [
    "import operator\n",
    "\n",
    "sorted_closeness = sorted(closeness_centralities.items(), key=operator.itemgetter(1), reverse=True)\n",
    "sorted_betweenness = sorted(betweenness_centralities.items(), key=operator.itemgetter(1), reverse=True)\n",
    "sorted_eigenvector = sorted(eigenvector_centralities.items(), key=operator.itemgetter(1), reverse=True)"
   ]
  },
  {
   "cell_type": "code",
   "execution_count": 57,
   "id": "fa141152",
   "metadata": {},
   "outputs": [
    {
     "data": {
      "text/plain": [
       "[('Thomas Sweeney', 0.4444444444444444),\n",
       " ('H. & C. McGrath', 0.14814814814814814),\n",
       " ('James Duffy', 0.1111111111111111),\n",
       " ('Flynn & Mahony', 0.1111111111111111),\n",
       " ('C. Wildermann', 0.1111111111111111),\n",
       " ('E. Cummiskey', 0.0),\n",
       " ('P. Donahoe', 0.0),\n",
       " ('T.B. Noonan', 0.0),\n",
       " ('John Coyne', 0.0),\n",
       " ('Fielding Lucas, JR.', 0.0)]"
      ]
     },
     "execution_count": 57,
     "metadata": {},
     "output_type": "execute_result"
    }
   ],
   "source": [
    "sorted_closeness"
   ]
  },
  {
   "cell_type": "code",
   "execution_count": 58,
   "id": "7298e7f6",
   "metadata": {},
   "outputs": [
    {
     "data": {
      "text/plain": [
       "[('James Duffy', 0.013888888888888888),\n",
       " ('H. & C. McGrath', 0.0),\n",
       " ('Flynn & Mahony', 0.0),\n",
       " ('Thomas Sweeney', 0.0),\n",
       " ('C. Wildermann', 0.0),\n",
       " ('E. Cummiskey', 0.0),\n",
       " ('P. Donahoe', 0.0),\n",
       " ('T.B. Noonan', 0.0),\n",
       " ('John Coyne', 0.0),\n",
       " ('Fielding Lucas, JR.', 0.0)]"
      ]
     },
     "execution_count": 58,
     "metadata": {},
     "output_type": "execute_result"
    }
   ],
   "source": [
    "sorted_betweenness"
   ]
  },
  {
   "cell_type": "code",
   "execution_count": 59,
   "id": "0a3d5c12",
   "metadata": {},
   "outputs": [
    {
     "data": {
      "text/plain": [
       "[('Thomas Sweeney', 0.8164969621298832),\n",
       " ('Flynn & Mahony', 0.40824790922835874),\n",
       " ('C. Wildermann', 0.40824790922835874),\n",
       " ('H. & C. McGrath', 7.324374954565523e-06),\n",
       " ('James Duffy', 6.083367902463061e-07),\n",
       " ('E. Cummiskey', 2.433347160985224e-08),\n",
       " ('P. Donahoe', 2.433347160985224e-08),\n",
       " ('T.B. Noonan', 2.433347160985224e-08),\n",
       " ('John Coyne', 2.433347160985224e-08),\n",
       " ('Fielding Lucas, JR.', 2.433347160985224e-08)]"
      ]
     },
     "execution_count": 59,
     "metadata": {},
     "output_type": "execute_result"
    }
   ],
   "source": [
    "sorted_eigenvector"
   ]
  },
  {
   "cell_type": "code",
   "execution_count": 122,
   "id": "10b0c1fb",
   "metadata": {},
   "outputs": [
    {
     "name": "stdout",
     "output_type": "stream",
     "text": [
      "1\n",
      "2\n",
      "1\n"
     ]
    }
   ],
   "source": [
    "for u, v, data in G_combined_thru_1850.edges(data=True):\n",
    "    print(data['weight'])"
   ]
  },
  {
   "cell_type": "code",
   "execution_count": null,
   "id": "f5df58b4",
   "metadata": {},
   "outputs": [],
   "source": []
  },
  {
   "cell_type": "code",
   "execution_count": 60,
   "id": "d33edbeb",
   "metadata": {},
   "outputs": [],
   "source": [
    "\n",
    "# Convert the 'weight' attribute of each edge to a single numeric value (sum of the list)\n",
    "#for u, v, data in G_combined_thru_1850.edges(data=True):\n",
    "    #data['weight'] = sum(data['weight'])\n",
    "\n",
    "weighted_closeness = nx.closeness_centrality(G_combined_thru_1850, distance='weight')\n",
    "weighted_betweenness = nx.betweenness_centrality(G_combined_thru_1850, weight='weight')\n",
    "weighted_eigenvector = nx.eigenvector_centrality(G_combined_thru_1850, weight='weight')\n",
    "\n",
    "sorted_weighted_closeness = sorted(weighted_closeness.items(), key=lambda x: x[1], reverse=True)\n",
    "sorted_weighted_betweenness = sorted(weighted_betweenness.items(), key=lambda x: x[1], reverse=True)\n",
    "sorted_weighted_eigenvector = sorted(weighted_eigenvector.items(), key=lambda x: x[1], reverse=True)"
   ]
  },
  {
   "cell_type": "code",
   "execution_count": 61,
   "id": "5d28482f",
   "metadata": {},
   "outputs": [
    {
     "data": {
      "text/plain": [
       "False"
      ]
     },
     "execution_count": 61,
     "metadata": {},
     "output_type": "execute_result"
    }
   ],
   "source": [
    "sorted_weighted_closeness == sorted_closeness"
   ]
  },
  {
   "cell_type": "code",
   "execution_count": 62,
   "id": "8b340f8f",
   "metadata": {},
   "outputs": [
    {
     "data": {
      "text/plain": [
       "False"
      ]
     },
     "execution_count": 62,
     "metadata": {},
     "output_type": "execute_result"
    }
   ],
   "source": [
    "sorted_weighted_eigenvector == sorted_eigenvector"
   ]
  },
  {
   "cell_type": "code",
   "execution_count": 65,
   "id": "c612642a",
   "metadata": {},
   "outputs": [
    {
     "data": {
      "text/plain": [
       "True"
      ]
     },
     "execution_count": 65,
     "metadata": {},
     "output_type": "execute_result"
    }
   ],
   "source": [
    "sorted_weighted_betweenness == sorted_betweenness"
   ]
  },
  {
   "cell_type": "code",
   "execution_count": 63,
   "id": "f510ff65",
   "metadata": {},
   "outputs": [
    {
     "data": {
      "text/plain": [
       "[('Thomas Sweeney', 0.2222222222222222),\n",
       " ('H. & C. McGrath', 0.1111111111111111),\n",
       " ('Flynn & Mahony', 0.1111111111111111),\n",
       " ('C. Wildermann', 0.1111111111111111),\n",
       " ('James Duffy', 0.05555555555555555),\n",
       " ('E. Cummiskey', 0.0),\n",
       " ('P. Donahoe', 0.0),\n",
       " ('T.B. Noonan', 0.0),\n",
       " ('John Coyne', 0.0),\n",
       " ('Fielding Lucas, JR.', 0.0)]"
      ]
     },
     "execution_count": 63,
     "metadata": {},
     "output_type": "execute_result"
    }
   ],
   "source": [
    "sorted_weighted_closeness"
   ]
  },
  {
   "cell_type": "code",
   "execution_count": 64,
   "id": "22efbc5e",
   "metadata": {},
   "outputs": [
    {
     "data": {
      "text/plain": [
       "[('James Duffy', 0.013888888888888888),\n",
       " ('H. & C. McGrath', 0.0),\n",
       " ('Flynn & Mahony', 0.0),\n",
       " ('Thomas Sweeney', 0.0),\n",
       " ('C. Wildermann', 0.0),\n",
       " ('E. Cummiskey', 0.0),\n",
       " ('P. Donahoe', 0.0),\n",
       " ('T.B. Noonan', 0.0),\n",
       " ('John Coyne', 0.0),\n",
       " ('Fielding Lucas, JR.', 0.0)]"
      ]
     },
     "execution_count": 64,
     "metadata": {},
     "output_type": "execute_result"
    }
   ],
   "source": [
    "sorted_weighted_betweenness"
   ]
  },
  {
   "cell_type": "code",
   "execution_count": 66,
   "id": "0173d91f",
   "metadata": {},
   "outputs": [
    {
     "data": {
      "text/plain": [
       "[('Thomas Sweeney', 0.942809186723073),\n",
       " ('Flynn & Mahony', 0.23570197004309468),\n",
       " ('C. Wildermann', 0.23570197004309468),\n",
       " ('H. & C. McGrath', 8.10623387782965e-06),\n",
       " ('James Duffy', 6.883976776666428e-07),\n",
       " ('E. Cummiskey', 1.404893219727842e-08),\n",
       " ('P. Donahoe', 1.404893219727842e-08),\n",
       " ('T.B. Noonan', 1.404893219727842e-08),\n",
       " ('John Coyne', 1.404893219727842e-08),\n",
       " ('Fielding Lucas, JR.', 1.404893219727842e-08)]"
      ]
     },
     "execution_count": 66,
     "metadata": {},
     "output_type": "execute_result"
    }
   ],
   "source": [
    "sorted_weighted_eigenvector"
   ]
  },
  {
   "cell_type": "code",
   "execution_count": 164,
   "id": "e9368915",
   "metadata": {},
   "outputs": [
    {
     "name": "stdout",
     "output_type": "stream",
     "text": [
      "James Duffy ['Dublin']\n",
      "James Duffy ['Dublin']\n",
      "James Duffy ['Dublin']\n",
      "James Duffy ['Dublin']\n",
      "James Duffy ['Dublin']\n",
      "James Duffy ['Dublin']\n",
      "James Duffy [['Dublin']]\n",
      "James Duffy ['Dublin']\n",
      "James Duffy [['Dublin']]\n",
      "James Duffy ['Dublin']\n",
      "James Duffy ['Dublin']\n",
      "James Duffy ['Dublin']\n",
      "James Duffy ['Dublin']\n",
      "James Duffy ['Dublin']\n",
      "James Duffy ['Dublin']\n",
      "James Duffy ['Dublin']\n",
      "James Duffy ['Dublin']\n",
      "James Duffy ['Dublin']\n",
      "James Duffy ['Dublin']\n",
      "James Duffy [['Dublin']]\n",
      "James Duffy ['Dublin']\n",
      "James Duffy ['Dublin']\n",
      "James Duffy ['Dublin']\n",
      "James Duffy ['Dublin']\n",
      "Uknown [['nan']]\n",
      "Thomas Richardson & Son ['London', 'Dublin', 'Derby']\n",
      "Flynn & Mahony [['New York'], ['Boston']]\n",
      "Thomas Sweeney [['Boston']]\n",
      "E. Cummiskey ['Philadelphia']\n",
      "P. Donahoe ['Boston']\n",
      "John Coyne ['Dublin']\n",
      "John Coyne ['Dublin']\n",
      "John Coyne ['Dublin']\n",
      "John Coyne ['Dublin']\n",
      "John Coyne [['Dublin']]\n",
      "Fielding Lucas, JR. ['Baltimore']\n",
      "Fielding Lucas, JR. ['Baltimore']\n",
      "Fielding Lucas, JR. ['Baltimore']\n",
      "Fielding Lucas, JR. [['Baltimore']]\n",
      "T.B. Noonan ['Boston']\n",
      "Richard Grace ['Dublin']\n",
      "Richard Grace [['Dublin']]\n",
      "Richard Grace ['Dublin']\n",
      "Richard Grace [['Dublin']]\n",
      "Richard Grace ['Dublin']\n",
      "H. & C. McGrath ['Philadelphia']\n",
      "H. & C. McGrath [['Philadelphia']]\n",
      "C. Wildermann [['New York'], ['Boston']]\n"
     ]
    }
   ],
   "source": [
    "\n",
    "for node, data in G_thru_1850.nodes(data=True):\n",
    "    for publication in data['publications']:\n",
    "        print(f\"{node}\", publication['place'])"
   ]
  },
  {
   "cell_type": "code",
   "execution_count": 255,
   "id": "a1e05ea2",
   "metadata": {},
   "outputs": [],
   "source": [
    "import matplotlib\n",
    "import matplotlib.pyplot as plt"
   ]
  },
  {
   "cell_type": "code",
   "execution_count": 271,
   "id": "30236338",
   "metadata": {},
   "outputs": [
    {
     "name": "stdout",
     "output_type": "stream",
     "text": [
      "[1]\n",
      "[1]\n",
      "[1, 1, 1, 1, 1, 1, 1]\n",
      "[1]\n",
      "[1]\n",
      "[2]\n",
      "[1]\n",
      "[1, 1, 1, 1, 1, 1]\n",
      "[1]\n",
      "[1]\n",
      "[1]\n",
      "[1, 1, 1, 1, 1, 1, 1]\n",
      "[1, 1, 1, 1, 1, 1, 1]\n",
      "[1]\n",
      "[1]\n",
      "[1]\n",
      "[1]\n",
      "[1]\n",
      "[1]\n",
      "[1]\n",
      "[1]\n",
      "[1, 1, 1, 1, 1, 1]\n",
      "[1]\n",
      "[1]\n",
      "[2]\n",
      "[1]\n"
     ]
    }
   ],
   "source": [
    "for u, v, data in G_thru_1850.edges(data=True):\n",
    "    print(data['weight'])"
   ]
  },
  {
   "cell_type": "code",
   "execution_count": 256,
   "id": "69e495bd",
   "metadata": {},
   "outputs": [
    {
     "data": {
      "image/png": "[encoded data removed]",
      "text/plain": [
       "<Figure size 1200x800 with 1 Axes>"
      ]
     },
     "metadata": {},
     "output_type": "display_data"
    }
   ],
   "source": [
    "\n",
    "G_combined_thru_1850 = nx.DiGraph()\n",
    "\n",
    "for u, v, data in G_thru_1850.edges(data=True):\n",
    "    if G_combined_thru_1850.has_edge(u, v):\n",
    "        # If the edge exists, update the weight attribute by adding the current edge's weight\n",
    "        G_combined_thru_1850[u][v]['weight'] += data['weight']\n",
    "    else:\n",
    "        G_combined_thru_1850.add_edge(u, v, weight=data['weight'])\n",
    "\n",
    "    if not G_combined_thru_1850.has_node(u):\n",
    "        G_combined_thru_1850.add_node(u, magnitude=G_thru_1850.nodes[u].get('magnitude', 1))  # Default magnitude to 1 if not present\n",
    "    else:\n",
    "        G_combined_thru_1850.nodes[u]['magnitude'] = G_thru_1850.nodes[u].get('magnitude', 1)\n",
    "\n",
    "    if not G_combined_thru_1850.has_node(v):\n",
    "        G_combined_thru_1850.add_node(v, magnitude=G_thru_1850.nodes[v].get('magnitude', 1))  # Default magnitude to 1 if not present\n",
    "    else:\n",
    "        G_combined_thru_1850.nodes[v]['magnitude'] = G_thru_1850.nodes[v].get('magnitude', 1)\n",
    "\n",
    "for u, v, data in G_combined_thru_1850.edges(data=True):\n",
    "    data['weight'] = sum(data['weight'])\n",
    "    \n",
    "for node, data in G_thru_1850.nodes(data=True):\n",
    "    if not G_combined_thru_1850.has_node(node):\n",
    "        G_combined_thru_1850.add_node(node, magnitude=G_thru_1850.nodes[node].get('magnitude', 1))\n",
    "    \n",
    "node_sizes = [G_combined_thru_1850.nodes[node].get('magnitude', 1) for node in G_combined_thru_1850.nodes()]\n",
    "\n",
    "# Scale node sizes for better visualization (adjust scaling factor as needed)\n",
    "node_sizes = [size * 36 for size in node_sizes]\n",
    "\n",
    "layout = nx.spring_layout(G_combined_thru_1850)\n",
    "\n",
    "edge_widths = [data['weight'] for _, _, data in G_combined_thru_1850.edges(data=True)]\n",
    "\n",
    "# Plot the graph\n",
    "plt.figure(figsize=(12, 8))\n",
    "nx.draw(G_combined_thru_1850, pos=layout, node_size=node_sizes, with_labels=True,\n",
    "        alpha=1, node_color='skyblue', width=edge_widths, edge_color='gray', arrows=True)\n",
    "\n",
    "plt.title(\"Pietra 19th Cent Liguori English Translation Network 1800-1850\")\n",
    "\n",
    "plt.savefig('Pietra_Margento_19th_Cent_Liguori_EN_through_1850.png')\n",
    "\n",
    "plt.show()\n"
   ]
  },
  {
   "cell_type": "code",
   "execution_count": 53,
   "id": "211a52e7",
   "metadata": {},
   "outputs": [],
   "source": [
    "components_thru_50 = list(nx.strongly_connected_components(G_combined_thru_1850))"
   ]
  },
  {
   "cell_type": "code",
   "execution_count": 54,
   "id": "50e176bd",
   "metadata": {},
   "outputs": [
    {
     "data": {
      "text/plain": [
       "7"
      ]
     },
     "execution_count": 54,
     "metadata": {},
     "output_type": "execute_result"
    }
   ],
   "source": [
    "len(components_thru_50)"
   ]
  },
  {
   "cell_type": "code",
   "execution_count": 65,
   "id": "8c11a8a9",
   "metadata": {},
   "outputs": [],
   "source": [
    "main_component = max(nx.strongly_connected_components(G_combined_thru_1850), key=len)\n",
    "G_maino = G_combined_thru_1850.subgraph(main_component)"
   ]
  },
  {
   "cell_type": "code",
   "execution_count": 66,
   "id": "87fb9e35",
   "metadata": {},
   "outputs": [
    {
     "data": {
      "image/png": "[encoded data removed]",
      "text/plain": [
       "<Figure size 1200x800 with 1 Axes>"
      ]
     },
     "metadata": {},
     "output_type": "display_data"
    }
   ],
   "source": [
    "node_sizes = [G_maino.nodes[node].get('magnitude', 1) for node in G_maino.nodes()]\n",
    "\n",
    "# Scale node sizes for better visualization (adjust scaling factor as needed)\n",
    "node_sizes = [size * 36 for size in node_sizes]\n",
    "\n",
    "layout = nx.spring_layout(G_maino)\n",
    "\n",
    "edge_widths = [data['weight'] for _, _, data in G_maino.edges(data=True)]\n",
    "\n",
    "# Plot the graph\n",
    "plt.figure(figsize=(12, 8))\n",
    "nx.draw(G_maino, pos=layout, node_size=node_sizes, with_labels=True,\n",
    "        alpha=1, node_color='skyblue', width=edge_widths, edge_color='gray', arrows=True)\n",
    "\n",
    "plt.title(\"19th Cent Liguori 1800-1850 Compo\")\n",
    "\n",
    "# plt.savefig('Pietra_Margento_19th_Cent_Liguori_EN_through_1850.png')\n",
    "\n",
    "plt.show()"
   ]
  },
  {
   "cell_type": "code",
   "execution_count": 257,
   "id": "fa34e4ce",
   "metadata": {},
   "outputs": [],
   "source": [
    "l2 = list(nx.weakly_connected_components(G_combined_thru_1850))"
   ]
  },
  {
   "cell_type": "code",
   "execution_count": 258,
   "id": "1678ab0a",
   "metadata": {},
   "outputs": [
    {
     "data": {
      "text/plain": [
       "6"
      ]
     },
     "execution_count": 258,
     "metadata": {},
     "output_type": "execute_result"
    }
   ],
   "source": [
    "len(l2)"
   ]
  },
  {
   "cell_type": "code",
   "execution_count": 260,
   "id": "92a21ae9",
   "metadata": {},
   "outputs": [
    {
     "data": {
      "image/png": "[encoded data removed]",
      "text/plain": [
       "<Figure size 1200x800 with 1 Axes>"
      ]
     },
     "metadata": {},
     "output_type": "display_data"
    }
   ],
   "source": [
    "Go = G_combined_thru_1850.subgraph(l2[0])\n",
    "\n",
    "node_sizes = [Go.nodes[node].get('magnitude', 1) for node in Go.nodes()]\n",
    "\n",
    "# Scale node sizes for better visualization (adjust scaling factor as needed)\n",
    "node_sizes = [size * 36 for size in node_sizes]\n",
    "\n",
    "layout = nx.spring_layout(Go)\n",
    "\n",
    "edge_widths = [data['weight'] for _, _, data in Go.edges(data=True)]\n",
    "\n",
    "# Plot the graph\n",
    "plt.figure(figsize=(12, 8))\n",
    "nx.draw(Go, pos=layout, node_size=node_sizes, with_labels=True,\n",
    "        alpha=1, node_color='skyblue', width=edge_widths, edge_color='gray', arrows=True)\n",
    "\n",
    "plt.title(\"19th Cent Liguori 1800-1850 First Component\")\n",
    "\n",
    "plt.savefig('19th_Cent_Liguori_EN_through_1850_First_Component.png')\n",
    "\n",
    "plt.show()"
   ]
  },
  {
   "cell_type": "code",
   "execution_count": 261,
   "id": "e73987eb",
   "metadata": {},
   "outputs": [
    {
     "data": {
      "image/png": "[encoded data removed]",
      "text/plain": [
       "<Figure size 1200x800 with 1 Axes>"
      ]
     },
     "metadata": {},
     "output_type": "display_data"
    }
   ],
   "source": [
    "G0 = G_combined_thru_1850.subgraph(l2[1])\n",
    "\n",
    "node_sizes = [G0.nodes[node].get('magnitude', 1) for node in G0.nodes()]\n",
    "\n",
    "# Scale node sizes for better visualization (adjust scaling factor as needed)\n",
    "node_sizes = [size * 44 for size in node_sizes]\n",
    "\n",
    "layout = nx.spring_layout(G0)\n",
    "\n",
    "edge_widths = [data['weight'] for _, _, data in G0.edges(data=True)]\n",
    "\n",
    "# Plot the graph\n",
    "plt.figure(figsize=(12, 8))\n",
    "nx.draw(G0, pos=layout, node_size=node_sizes, with_labels=True,\n",
    "        alpha=1, node_color='skyblue', width=edge_widths, edge_color='gray', arrows=True)\n",
    "\n",
    "plt.title(\"19th Cent Liguori 1800-1850 Second Component\")\n",
    "\n",
    "plt.savefig('19th_Cent_Liguori_EN_through_1850_Second_Component_Pietra_Margento.png')\n",
    "\n",
    "plt.show()"
   ]
  },
  {
   "cell_type": "code",
   "execution_count": 262,
   "id": "c5a1bb1c",
   "metadata": {},
   "outputs": [
    {
     "data": {
      "image/png": "[encoded data removed]",
      "text/plain": [
       "<Figure size 1200x800 with 1 Axes>"
      ]
     },
     "metadata": {},
     "output_type": "display_data"
    }
   ],
   "source": [
    "G0 = G_combined_thru_1850.subgraph(l2[2])\n",
    "\n",
    "node_sizes = [G0.nodes[node].get('magnitude', 1) for node in G0.nodes()]\n",
    "\n",
    "# Scale node sizes for better visualization (adjust scaling factor as needed)\n",
    "node_sizes = [size * 44 for size in node_sizes]\n",
    "\n",
    "layout = nx.spring_layout(G0)\n",
    "\n",
    "edge_widths = [data['weight'] for _, _, data in G0.edges(data=True)]\n",
    "\n",
    "# Plot the graph\n",
    "plt.figure(figsize=(12, 8))\n",
    "nx.draw(G0, pos=layout, node_size=node_sizes, with_labels=True,\n",
    "        alpha=1, node_color='skyblue', width=edge_widths, edge_color='gray', arrows=True)\n",
    "\n",
    "plt.title(\"19th Cent Liguori 1800-1850 Third Component\")\n",
    "\n",
    "plt.savefig('19th_Cent_Liguori_EN_through_1850_Third_Component_Pietra_Margento.png')\n",
    "\n",
    "plt.show()"
   ]
  },
  {
   "cell_type": "code",
   "execution_count": 263,
   "id": "0aaed70a",
   "metadata": {},
   "outputs": [
    {
     "data": {
      "image/png": "[encoded data removed]",
      "text/plain": [
       "<Figure size 1200x800 with 1 Axes>"
      ]
     },
     "metadata": {},
     "output_type": "display_data"
    }
   ],
   "source": [
    "G0 = G_combined_thru_1850.subgraph(l2[3])\n",
    "\n",
    "node_sizes = [G0.nodes[node].get('magnitude', 1) for node in G0.nodes()]\n",
    "\n",
    "# Scale node sizes for better visualization (adjust scaling factor as needed)\n",
    "node_sizes = [size * 44 for size in node_sizes]\n",
    "\n",
    "layout = nx.spring_layout(G0)\n",
    "\n",
    "edge_widths = [data['weight'] for _, _, data in G0.edges(data=True)]\n",
    "\n",
    "# Plot the graph\n",
    "plt.figure(figsize=(12, 8))\n",
    "nx.draw(G0, pos=layout, node_size=node_sizes, with_labels=True,\n",
    "        alpha=1, node_color='skyblue', width=edge_widths, edge_color='gray', arrows=True)\n",
    "\n",
    "plt.title(\"19th Cent Liguori 1800-1850 Fourth Component\")\n",
    "\n",
    "plt.savefig('19th_Cent_Liguori_EN_through_1850_Fourth_Component_Pietra_Margento.png')\n",
    "\n",
    "plt.show()"
   ]
  },
  {
   "cell_type": "code",
   "execution_count": 264,
   "id": "5f6515e3",
   "metadata": {},
   "outputs": [
    {
     "data": {
      "image/png": "[encoded data removed]",
      "text/plain": [
       "<Figure size 1200x800 with 1 Axes>"
      ]
     },
     "metadata": {},
     "output_type": "display_data"
    }
   ],
   "source": [
    "G0 = G_combined_thru_1850.subgraph(l2[4])\n",
    "\n",
    "node_sizes = [G0.nodes[node].get('magnitude', 1) for node in G0.nodes()]\n",
    "\n",
    "# Scale node sizes for better visualization (adjust scaling factor as needed)\n",
    "node_sizes = [size * 44 for size in node_sizes]\n",
    "\n",
    "layout = nx.spring_layout(G0)\n",
    "\n",
    "edge_widths = [data['weight'] for _, _, data in G0.edges(data=True)]\n",
    "\n",
    "# Plot the graph\n",
    "plt.figure(figsize=(12, 8))\n",
    "nx.draw(G0, pos=layout, node_size=node_sizes, with_labels=True,\n",
    "        alpha=1, node_color='skyblue', width=edge_widths, edge_color='gray', arrows=True)\n",
    "\n",
    "plt.title(\"19th Cent Liguori 1800-1850 Fifth Component\")\n",
    "\n",
    "plt.savefig('19th_Cent_Liguori_EN_through_1850_Fifth_Component_Pietra_Margento.png')\n",
    "\n",
    "plt.show()"
   ]
  },
  {
   "cell_type": "code",
   "execution_count": 265,
   "id": "e946a722",
   "metadata": {},
   "outputs": [
    {
     "data": {
      "image/png": "[encoded data removed]",
      "text/plain": [
       "<Figure size 1200x800 with 1 Axes>"
      ]
     },
     "metadata": {},
     "output_type": "display_data"
    }
   ],
   "source": [
    "G0 = G_combined_thru_1850.subgraph(l2[5])\n",
    "\n",
    "node_sizes = [G0.nodes[node].get('magnitude', 1) for node in G0.nodes()]\n",
    "\n",
    "# Scale node sizes for better visualization (adjust scaling factor as needed)\n",
    "node_sizes = [size * 44 for size in node_sizes]\n",
    "\n",
    "layout = nx.spring_layout(G0)\n",
    "\n",
    "edge_widths = [data['weight'] for _, _, data in G0.edges(data=True)]\n",
    "\n",
    "# Plot the graph\n",
    "plt.figure(figsize=(12, 8))\n",
    "nx.draw(G0, pos=layout, node_size=node_sizes, with_labels=True,\n",
    "        alpha=1, node_color='skyblue', width=edge_widths, edge_color='gray', arrows=True)\n",
    "\n",
    "plt.title(\"19th Cent Liguori 1800-1850 Sixth Component\")\n",
    "\n",
    "plt.savefig('19th_Cent_Liguori_EN_through_1850_Sixth_Component_Pietra_Margento.png')\n",
    "\n",
    "plt.show()"
   ]
  },
  {
   "cell_type": "code",
   "execution_count": null,
   "id": "1beeec7e",
   "metadata": {},
   "outputs": [],
   "source": []
  },
  {
   "cell_type": "code",
   "execution_count": 209,
   "id": "f251aacc",
   "metadata": {},
   "outputs": [],
   "source": [
    "#import pandas as pd\n",
    "#import networkx as nx\n",
    "\n",
    "excel_file = '19th_century_translations.xlsx'\n",
    "df = pd.read_excel(excel_file)\n",
    "\n",
    "G_1851_60 = nx.MultiDiGraph()\n",
    "\n",
    "# Function to extract and sort years chronologically\n",
    "def extract_years(row, cutoff_year0, cutoff_year1):\n",
    "    year = row['Year']\n",
    "    earlier = row['Earlier']\n",
    "    subsequent = row['Subsequent Listing']\n",
    "    \n",
    "    # Extract and filter years based on the cutoff year\n",
    "    all_years = []\n",
    "    #if isinstance(year, (int, float)) and year > cutoff_year0 and year < cutoff_year1:\n",
    "    if year not in ['[s.d.]', '185?', '18--', '????'] and int(year) > cutoff_year0 and int(year) < cutoff_year1:\n",
    "        all_years.append(int(year))\n",
    "    \n",
    "    if isinstance(earlier, str) and earlier != 'nan':\n",
    "        earlier_years = [int(x.split()[0]) for x in earlier.split(',') if int(x.split()[0]) < cutoff_year1 and int(x.split()[0]) > cutoff_year0]\n",
    "        all_years.extend(earlier_years)\n",
    "    \n",
    "    if isinstance(subsequent, str) and subsequent != 'nan':\n",
    "        subsequent_years = [int(x.split()[0]) for x in subsequent.split(',') if int(x.split()[0]) < cutoff_year1 and int(x.split()[0]) > cutoff_year0]\n",
    "        all_years.extend(subsequent_years)\n",
    "    \n",
    "    all_years = sorted(all_years)\n",
    "    return all_years\n",
    "\n",
    "import pandas as pd\n",
    "\n",
    "# Assuming df is your DataFrame\n",
    "\n",
    "# Filter rows based on index range\n",
    "filtered_df0 = df.iloc[0:179]\n",
    "\n",
    "def is_valid_year(x):\n",
    "    try:\n",
    "        year_int = int(x)\n",
    "        return year_int > 1850 and year_int < 1861\n",
    "    except ValueError:\n",
    "        return False\n",
    "\n",
    "# Filter rows based on 'Year' column\n",
    "filtered_df = filtered_df0[filtered_df0['Year'].apply(lambda x: x not in ['[s.d.]', '185?', '18--', '????'] and is_valid_year(x))]\n",
    "\n",
    "unique_publishers = set()\n",
    "for publishers in filtered_df['Publisher']:\n",
    "    if isinstance(publishers, str):\n",
    "        unique_publishers.update([publisher.strip() for publisher in publishers.split(';')])\n",
    "    else:\n",
    "        unique_publishers.update([publishers])\n",
    "\n",
    "for publisher in unique_publishers:\n",
    "    G_1851_60.add_node(publisher, publications=[])\n",
    "\n",
    "for index, row in filtered_df.iterrows():\n",
    "    title = row['Title']\n",
    "    years = extract_years(row, 1850, 1861)\n",
    "    editions = sum(1 for year in years)  # Calculate number of editions based on years before 1851\n",
    "    publishers = [publisher.strip() for publisher in row['Publisher'].split('; ')] if isinstance(row['Publisher'], str) else [row['Publisher']]\n",
    "    translator = row['Translator']\n",
    "    places = [place.strip() for place in row['Place of Publication'].split('; ')] if isinstance(row['Place of Publication'], str) else [str(row['Place of Publication']).strip()]\n",
    "\n",
    "    for publisher in unique_publishers:\n",
    "        if publisher in publishers:\n",
    "            G_1851_60.nodes[publisher]['publications'].append({\n",
    "                'title': title,\n",
    "                'years': years,\n",
    "                'editions': [editions],\n",
    "                'publisher': publishers,\n",
    "                'translator': translator,\n",
    "                'place': places\n",
    "            })\n",
    "\n",
    "for publisher in G_1851_60.nodes():\n",
    "    magnitude = sum(sum(pub['editions']) for pub in G_1851_60.nodes[publisher]['publications'])\n",
    "    G_1851_60.nodes[publisher]['magnitude'] = magnitude\n"
   ]
  },
  {
   "cell_type": "code",
   "execution_count": 213,
   "id": "b0651c9f",
   "metadata": {},
   "outputs": [],
   "source": [
    "def add_edges_between_publishers(G, publisher_A, publisher_B, publication_A, publication_B):\n",
    "    years_A = publication_A['years']\n",
    "    years_B = publication_B['years']\n",
    "    translators_A = publication_A['translator']\n",
    "    translators_B = publication_B['translator']\n",
    "    \n",
    "    if not pd.isna(translators_A) and not pd.isna(translators_B):\n",
    "                same_translator = ((translators_A == translators_B) or (translators_A in translators_B) or (translators_B in translators_A))\n",
    "    else:\n",
    "                same_translator = False\n",
    "            \n",
    "    if pd.isna(translators_A) or 'not named' in translators_A or 'not mentioned' in translators_A or 'None' in translators_A:\n",
    "                same_translator = False\n",
    "    if pd.isna(translators_B) or 'not named' in translators_B or 'not mentioned' in translators_B or 'None' in translators_B:\n",
    "                same_translator = False\n",
    "    \n",
    "    # Check for copublication relation\n",
    "    if publication_A['publisher'] == publication_B['publisher'] and publication_A['title'] == publication_B['title'] and set(years_A) == set(years_B):\n",
    "        weight = max(publication_A['editions'], publication_B['editions'])\n",
    "        # Add copublication edge with a unique key based on the relation type\n",
    "        edge_key = f\"copub_{publisher_A}_{publisher_B}_{publication_A['title']}\"\n",
    "        add_edge_with_attributes(G, publisher_A, publisher_B, publication_A['title'], \n",
    "                                 years_A, years_B, translators_A, translators_B,\n",
    "                                 publication_A['editions'], publication_B['editions'],\n",
    "                                 publication_A['place'], publication_B['place'],\n",
    "                                 weight, 'copublication', key=edge_key)\n",
    "\n",
    "    # Check for reprint relation\n",
    "    if translators_A == translators_B and publication_A['title'] == publication_B['title'] and years_A and years_B and years_A[0] < years_B[0] and publication_A['publisher'] != publication_B['publisher']:\n",
    "        weight = publication_B['editions']\n",
    "        # Add reprint edge with a unique key based on the relation type\n",
    "        edge_key = f\"reprint_{publisher_A}_{publisher_B}_{publication_A['title']}\"\n",
    "        add_edge_with_attributes(G, publisher_A, publisher_B, publication_A['title'], \n",
    "                                 years_A, years_B, translators_A, translators_B,\n",
    "                                 publication_A['editions'], publication_B['editions'],\n",
    "                                 publication_A['place'], publication_B['place'],\n",
    "                                 weight, 'reprint', key=edge_key)\n",
    "\n",
    "    # Check for retranslation relation\n",
    "    if translators_A != translators_B and publication_A['title'] == publication_B['title'] and years_A and years_B and years_A[0] < years_B[0] and publication_A['publisher'] != publication_B['publisher']:\n",
    "        weight = publication_B['editions']\n",
    "        # Add retranslation edge with a unique key based on the relation type\n",
    "        edge_key = f\"retrans_{publisher_A}_{publisher_B}_{publication_A['title']}\"\n",
    "        add_edge_with_attributes(G, publisher_A, publisher_B, publication_A['title'], \n",
    "                                 years_A, years_B, translators_A, translators_B,\n",
    "                                 publication_A['editions'], publication_B['editions'],\n",
    "                                 publication_A['place'], publication_B['place'],\n",
    "                                 weight, 'retranslation', key=edge_key)\n",
    "\n",
    "# Iterate over combinations of nodes (publishers)\n",
    "for publisher_A, publisher_B in itertools.combinations(G_1851_60.nodes(), 2):\n",
    "    publications_A = G_1851_60.nodes[publisher_A][\"publications\"]\n",
    "    publications_B = G_1851_60.nodes[publisher_B][\"publications\"]\n",
    "    \n",
    "    # Iterate over publications of each publisher pair\n",
    "    for publication_A in publications_A:\n",
    "        for publication_B in publications_B:\n",
    "            # Add edges based on different relations\n",
    "            add_edges_between_publishers(G_1851_60, publisher_A, publisher_B, publication_A, publication_B)\n"
   ]
  },
  {
   "cell_type": "code",
   "execution_count": 211,
   "id": "504f7ec1",
   "metadata": {},
   "outputs": [
    {
     "name": "stdout",
     "output_type": "stream",
     "text": [
      "Edward Dunigan & Brother, Magnitude: 14\n",
      "P.J. Kenedy, Magnitude: 8\n",
      "James Duffy, Magnitude: 4\n",
      "D. & J. Sadlier & Co., Magnitude: 3\n",
      "P. O'Shea, Magnitude: 2\n",
      "T.W. Strong, Magnitude: 2\n",
      "J.B. Kirker, Magnitude: 2\n",
      "P. J. Kenedy, Magnitude: 2\n",
      "Catholic Publication Society, Magnitude: 1\n",
      "Fielding Lucas, JR., Magnitude: 1\n",
      "Thomas Sweeney, Magnitude: 1\n",
      "M.T. Cozans, Magnitude: 1\n",
      "George Quigley & Co, Magnitude: 1\n",
      "J. and C. Mozley, Magnitude: 1\n",
      "THE REFORMATION SOCIETY, Magnitude: 1\n",
      "J.M. O'Toole, Magnitude: 1\n",
      "P. Donahoe, Magnitude: 1\n",
      "J. Murphy, Magnitude: 1\n",
      "Webb and Levering, Magnitude: 1\n",
      "D. O'Halloran, Magnitude: 1\n",
      "H. & C. McGrath, Magnitude: 1\n"
     ]
    }
   ],
   "source": [
    "sorted_nodes = sorted(G_1851_60.nodes(data=True), key=lambda x: x[1].get('magnitude', 0), reverse=True)\n",
    "\n",
    "# Print nodes in descending order of magnitude\n",
    "for node, attrs in sorted_nodes:\n",
    "    print(f\"{node}, Magnitude: {attrs.get('magnitude', 0)}\")"
   ]
  },
  {
   "cell_type": "code",
   "execution_count": 162,
   "id": "7e3cd233",
   "metadata": {},
   "outputs": [
    {
     "name": "stdout",
     "output_type": "stream",
     "text": [
      "Edward Dunigan & Brother, {'publications': [{'title': 'The mysteries of the faith - the redemption ; containing reflections, meditations, and devotions on the Passion of our Lord Jesus Christ, and the novena of the Sacred Heart', 'years': [1855, 1857], 'editions': [2], 'publisher': ['Edward Dunigan & Brother'], 'translator': 'Rev. Robert A. Coffin', 'place': ['New York']}, {'title': 'The mysteries of the faith : the holy eucharist : containing, part I, the visits and other devotions to the most holy sacrament, preparation and thanksgiving for holy communion, etc., part II, novena of the Holy Ghost, short spiritual treatises on the love of God, uniformity to the will of God, rest for scrupulous souls, etc.', 'years': [1857], 'editions': [1], 'publisher': ['Edward Dunigan & Brother'], 'translator': 'Rev. Robert A. Coffin', 'place': ['New York']}, {'title': 'The Mission Book : A Manual', 'years': [1854, 1857], 'editions': [2], 'publisher': ['Edward Dunigan & Brother'], 'translator': 'Fathers of the Congregation of the Most Holy Redeemer', 'place': [['New York']]}, {'title': 'The Glories of Mary', 'years': [1852, 1852, 1853, 1855], 'editions': [4], 'publisher': ['Edward Dunigan & Brother'], 'translator': 'not named', 'place': ['New York']}, {'title': 'Preparation for Death', 'years': [1855], 'editions': [1], 'publisher': ['J.B. Kirker', 'Edward Dunigan & Brother'], 'translator': 'Rev. Robert A. Coffin', 'place': [['New York']]}, {'title': 'Preparation for Death', 'years': [1858], 'editions': [1], 'publisher': ['Edward Dunigan & Brother'], 'translator': 'Rev. Robert A. Coffin', 'place': [['New York']]}, {'title': 'Instructions on the Commandments', 'years': [1857], 'editions': [1], 'publisher': ['Edward Dunigan & Brother'], 'translator': nan, 'place': ['New York']}, {'title': 'The Love of Our Lord Jesus Christ. Reduced to Practice', 'years': [1855], 'editions': [1], 'publisher': ['Edward Dunigan & Brother'], 'translator': 'Rev. Robert A. Coffin', 'place': [['New York']]}, {'title': 'Christian virtues and the means for obtaining them ', 'years': [1855], 'editions': [1], 'publisher': ['Edward Dunigan & Brother'], 'translator': 'Rev. Robert A. Coffin', 'place': ['New York']}], 'magnitude': 14}\n",
      "P.J. Kenedy, {'publications': [{'title': 'The mysteries of the incarnation', 'years': [1855], 'editions': [1], 'publisher': ['P.J. Kenedy'], 'translator': 'Rev. Robert A. Coffin', 'place': ['New York']}, {'title': 'The Mission Book : a Manual', 'years': [1858], 'editions': [1], 'publisher': ['P.J. Kenedy'], 'translator': nan, 'place': ['New York']}, {'title': 'A Short Treatise on Prayer', 'years': [1854], 'editions': [1], 'publisher': ['P.J. Kenedy'], 'translator': nan, 'place': ['New York']}, {'title': 'Visits to the Most Holy Sacrament', 'years': [1855], 'editions': [1], 'publisher': ['P.J. Kenedy'], 'translator': 'Rev. Robert A. Coffin', 'place': ['New York']}, {'title': 'The holy eucharist', 'years': [1855], 'editions': [1], 'publisher': ['P.J. Kenedy'], 'translator': 'Rev. Robert A. Coffin', 'place': ['']}, {'title': 'Preparation for Death', 'years': [1857], 'editions': [1], 'publisher': ['P.J. Kenedy'], 'translator': 'Rev. Robert A. Coffin', 'place': ['New York']}, {'title': 'Preparation for Death', 'years': [1857], 'editions': [1], 'publisher': ['P.J. Kenedy'], 'translator': 'Rev. Robert A. Coffin', 'place': [['New York']]}, {'title': 'The Love of Our Lord Jesus Christ. Reduced to Practice', 'years': [1855], 'editions': [1], 'publisher': ['P.J. Kenedy'], 'translator': 'Rev. Robert A. Coffin', 'place': [['New York']]}], 'magnitude': 8}\n",
      "James Duffy, {'publications': [{'title': 'Preparation which ecclesiastical students should make during their collegiate course taken principally from the works of St. Alphonsus Liguori', 'years': [1853], 'editions': [1], 'publisher': ['James Duffy'], 'translator': nan, 'place': ['Dublin']}, {'title': 'Sermons for All the Sundays in the Year', 'years': [1852], 'editions': [1], 'publisher': ['James Duffy'], 'translator': 'A Catholic Clergyman', 'place': ['Dublin']}, {'title': 'The Mission Book : A Manual', 'years': [1857], 'editions': [1], 'publisher': ['James Duffy'], 'translator': nan, 'place': ['Dublin']}, {'title': 'The Spirit Of Blessed Alphonsus De Liguori', 'years': [1858], 'editions': [1], 'publisher': ['James Duffy'], 'translator': 'A Catholic Priest', 'place': ['Dublin']}], 'magnitude': 4}\n",
      "D. & J. Sadlier & Co., {'publications': [{'title': 'The Holy Way of the Cross', 'years': [1859], 'editions': [1], 'publisher': ['D. & J. Sadlier & Co.'], 'translator': nan, 'place': ['New York', 'Montreal']}, {'title': 'The Mission-Book of the Congregation of the Most Holy Redeemer: a manual of instructions and prayers adapted to preserve the fruits of the mission', 'years': [1853, 1858], 'editions': [2], 'publisher': ['D. & J. Sadlier & Co.'], 'translator': 'Fathers of the Congregation of the Most Holy Redeemer', 'place': ['New York', 'Boston', 'Montreal']}], 'magnitude': 3}\n",
      "P. O'Shea, {'publications': [{'title': 'The Mission-Book of the Congregation of the Most Holy Redeemer: a manual of instructions and prayers adapted to preserve the fruits of the mission', 'years': [1860], 'editions': [1], 'publisher': [\"P. O'Shea\"], 'translator': nan, 'place': ['New York']}, {'title': 'Instructions on the Commandments', 'years': [1860], 'editions': [1], 'publisher': [\"P. O'Shea\"], 'translator': nan, 'place': ['New York']}], 'magnitude': 2}\n",
      "T.W. Strong, {'publications': [{'title': 'The mysteries of the Incarnation', 'years': [1855], 'editions': [1], 'publisher': ['T.W. Strong'], 'translator': 'Rev. Robert A. Coffin', 'place': ['New York']}, {'title': 'The Glories of Mary', 'years': [1852], 'editions': [1], 'publisher': ['T.W. Strong'], 'translator': 'not named', 'place': ['New York']}], 'magnitude': 2}\n",
      "J.B. Kirker, {'publications': [{'title': 'Preparation for Death', 'years': [1855], 'editions': [1], 'publisher': ['J.B. Kirker', 'Edward Dunigan & Brother'], 'translator': 'Rev. Robert A. Coffin', 'place': [['New York']]}, {'title': 'Christian virtues and the means for obtaining them ', 'years': [1855], 'editions': [1], 'publisher': ['J.B. Kirker'], 'translator': 'Rev. Robert A. Coffin', 'place': ['New York']}], 'magnitude': 2}\n",
      "P. J. Kenedy, {'publications': [{'title': 'Christian virtues and the means for obtaining them ', 'years': [1855, 1857], 'editions': [2], 'publisher': ['P. J. Kenedy'], 'translator': nan, 'place': ['New York']}], 'magnitude': 2}\n",
      "Catholic Publication Society, {'publications': [{'title': 'The mysteries of the incarnation', 'years': [1855], 'editions': [1], 'publisher': ['Catholic Publication Society'], 'translator': 'Rev. Robert A. Coffin', 'place': ['New York']}], 'magnitude': 1}\n",
      "Fielding Lucas, JR., {'publications': [{'title': 'The Love of Our Lord Jesus Christ. Reduced to Practice', 'years': [1851], 'editions': [1], 'publisher': ['Fielding Lucas, JR.'], 'translator': 'Rt. Rev. W. Walsh, Bishop of Halifax', 'place': [['Baltimore']]}], 'magnitude': 1}\n",
      "Thomas Sweeney, {'publications': [{'title': 'Preparation for Death', 'years': [1854], 'editions': [1], 'publisher': ['Thomas Sweeney'], 'translator': 'A Catholic Clergyman', 'place': [['Boston']]}], 'magnitude': 1}\n",
      "M.T. Cozans, {'publications': [{'title': 'The Mission Book : A Manual', 'years': [1853], 'editions': [1], 'publisher': ['M.T. Cozans'], 'translator': nan, 'place': [['New York']]}], 'magnitude': 1}\n",
      "George Quigley & Co, {'publications': [{'title': 'Duties and advantages of the religious state; or, lesser works of St. Alphonsus, relating to the religious state', 'years': [1852], 'editions': [1], 'publisher': ['J. Murphy', 'George Quigley & Co'], 'translator': nan, 'place': [['Baltimore'], ['Pittsburg']]}], 'magnitude': 1}\n",
      "J. and C. Mozley, {'publications': [{'title': \"Moral theology of the Church of Rome. No. I, S. Alfonso de' Liguori's theory of truthfulness\", 'years': [1855], 'editions': [1], 'publisher': ['J. and C. Mozley'], 'translator': 'not named', 'place': ['London', 'Edinburgh', 'Dublin']}], 'magnitude': 1}\n",
      "THE REFORMATION SOCIETY, {'publications': [{'title': 'Extracts (The Moral Theology)', 'years': [1852], 'editions': [1], 'publisher': ['THE REFORMATION SOCIETY'], 'translator': 'Rev. R. P. Blackney', 'place': ['London']}], 'magnitude': 1}\n",
      "J.M. O'Toole, {'publications': [{'title': 'Sacred poetry of St. Alphonsus Maria Liguori', 'years': [1858], 'editions': [1], 'publisher': [\"J.M. O'Toole\"], 'translator': 'W.A. Doyle', 'place': ['Dublin']}], 'magnitude': 1}\n",
      "P. Donahoe, {'publications': [{'title': 'Reflections on he Passion', 'years': [1851], 'editions': [1], 'publisher': ['P. Donahoe'], 'translator': nan, 'place': ['Boston']}], 'magnitude': 1}\n",
      "J. Murphy, {'publications': [{'title': 'Duties and advantages of the religious state; or, lesser works of St. Alphonsus, relating to the religious state', 'years': [1852], 'editions': [1], 'publisher': ['J. Murphy', 'George Quigley & Co'], 'translator': nan, 'place': [['Baltimore'], ['Pittsburg']]}], 'magnitude': 1}\n",
      "Webb and Levering, {'publications': [{'title': 'Preparation for Death', 'years': [1859], 'editions': [1], 'publisher': ['Webb and Levering'], 'translator': nan, 'place': [['Louisville']]}], 'magnitude': 1}\n",
      "D. O'Halloran, {'publications': [{'title': 'The Mission Book : A Manual', 'years': [1853], 'editions': [1], 'publisher': [\"D. O'Halloran\"], 'translator': nan, 'place': ['St. Paul, Minn.']}], 'magnitude': 1}\n",
      "H. & C. McGrath, {'publications': [{'title': 'Obligations of children and parents', 'years': [1851], 'editions': [1], 'publisher': ['H. & C. McGrath'], 'translator': nan, 'place': ['Philadelphia']}], 'magnitude': 1}\n"
     ]
    }
   ],
   "source": [
    "for node, attrs in sorted_nodes:\n",
    "    print(f\"{node}, {attrs}\")"
   ]
  },
  {
   "cell_type": "code",
   "execution_count": 163,
   "id": "6fe09f93",
   "metadata": {},
   "outputs": [
    {
     "name": "stdout",
     "output_type": "stream",
     "text": [
      "Catholic Publication Society ['New York']\n",
      "Fielding Lucas, JR. [['Baltimore']]\n",
      "P. O'Shea ['New York']\n",
      "P. O'Shea ['New York']\n",
      "James Duffy ['Dublin']\n",
      "James Duffy ['Dublin']\n",
      "James Duffy ['Dublin']\n",
      "James Duffy ['Dublin']\n",
      "T.W. Strong ['New York']\n",
      "T.W. Strong ['New York']\n",
      "Thomas Sweeney [['Boston']]\n",
      "J.B. Kirker [['New York']]\n",
      "J.B. Kirker ['New York']\n",
      "P.J. Kenedy ['New York']\n",
      "P.J. Kenedy ['New York']\n",
      "P.J. Kenedy ['New York']\n",
      "P.J. Kenedy ['New York']\n",
      "P.J. Kenedy ['']\n",
      "P.J. Kenedy ['New York']\n",
      "P.J. Kenedy [['New York']]\n",
      "P.J. Kenedy [['New York']]\n",
      "M.T. Cozans [['New York']]\n",
      "P. J. Kenedy ['New York']\n",
      "George Quigley & Co [['Baltimore'], ['Pittsburg']]\n",
      "D. & J. Sadlier & Co. ['New York', 'Montreal']\n",
      "D. & J. Sadlier & Co. ['New York', 'Boston', 'Montreal']\n",
      "J. and C. Mozley ['London', 'Edinburgh', 'Dublin']\n",
      "Edward Dunigan & Brother ['New York']\n",
      "Edward Dunigan & Brother ['New York']\n",
      "Edward Dunigan & Brother [['New York']]\n",
      "Edward Dunigan & Brother ['New York']\n",
      "Edward Dunigan & Brother [['New York']]\n",
      "Edward Dunigan & Brother [['New York']]\n",
      "Edward Dunigan & Brother ['New York']\n",
      "Edward Dunigan & Brother [['New York']]\n",
      "Edward Dunigan & Brother ['New York']\n",
      "THE REFORMATION SOCIETY ['London']\n",
      "J.M. O'Toole ['Dublin']\n",
      "P. Donahoe ['Boston']\n",
      "J. Murphy [['Baltimore'], ['Pittsburg']]\n",
      "Webb and Levering [['Louisville']]\n",
      "D. O'Halloran ['St. Paul, Minn.']\n",
      "H. & C. McGrath ['Philadelphia']\n"
     ]
    }
   ],
   "source": [
    "for node, data in G_1851_60.nodes(data=True):\n",
    "    for publication in data['publications']:\n",
    "        print(f\"{node}\", publication['place'])"
   ]
  },
  {
   "cell_type": "code",
   "execution_count": 214,
   "id": "3fa3a331",
   "metadata": {},
   "outputs": [
    {
     "data": {
      "text/plain": [
       "15"
      ]
     },
     "execution_count": 214,
     "metadata": {},
     "output_type": "execute_result"
    }
   ],
   "source": [
    "len(G_1851_60.edges())"
   ]
  },
  {
   "cell_type": "code",
   "execution_count": 215,
   "id": "3499b208",
   "metadata": {},
   "outputs": [
    {
     "name": "stdout",
     "output_type": "stream",
     "text": [
      "Nodes ordered by outgoing degree:\n",
      "Thomas Sweeney 4\n",
      "J.B. Kirker 4\n",
      "Fielding Lucas, JR. 2\n",
      "P.J. Kenedy 2\n",
      "M.T. Cozans 1\n",
      "George Quigley & Co 1\n",
      "Edward Dunigan & Brother 1\n",
      "Catholic Publication Society 0\n",
      "P. O'Shea 0\n",
      "James Duffy 0\n",
      "T.W. Strong 0\n",
      "P. J. Kenedy 0\n",
      "D. & J. Sadlier & Co. 0\n",
      "J. and C. Mozley 0\n",
      "THE REFORMATION SOCIETY 0\n",
      "J.M. O'Toole 0\n",
      "P. Donahoe 0\n",
      "J. Murphy 0\n",
      "Webb and Levering 0\n",
      "D. O'Halloran 0\n",
      "H. & C. McGrath 0\n",
      "\n",
      "Nodes ordered by incoming degree:\n",
      "Edward Dunigan & Brother 6\n",
      "Webb and Levering 4\n",
      "P.J. Kenedy 3\n",
      "J.B. Kirker 1\n",
      "J. Murphy 1\n",
      "Catholic Publication Society 0\n",
      "Fielding Lucas, JR. 0\n",
      "P. O'Shea 0\n",
      "James Duffy 0\n",
      "T.W. Strong 0\n",
      "Thomas Sweeney 0\n",
      "M.T. Cozans 0\n",
      "P. J. Kenedy 0\n",
      "George Quigley & Co 0\n",
      "D. & J. Sadlier & Co. 0\n",
      "J. and C. Mozley 0\n",
      "THE REFORMATION SOCIETY 0\n",
      "J.M. O'Toole 0\n",
      "P. Donahoe 0\n",
      "D. O'Halloran 0\n",
      "H. & C. McGrath 0\n",
      "\n",
      "Nodes ordered by overall degree:\n",
      "Edward Dunigan & Brother 7\n",
      "J.B. Kirker 5\n",
      "P.J. Kenedy 5\n",
      "Thomas Sweeney 4\n",
      "Webb and Levering 4\n",
      "Fielding Lucas, JR. 2\n",
      "M.T. Cozans 1\n",
      "George Quigley & Co 1\n",
      "J. Murphy 1\n",
      "Catholic Publication Society 0\n",
      "P. O'Shea 0\n",
      "James Duffy 0\n",
      "T.W. Strong 0\n",
      "P. J. Kenedy 0\n",
      "D. & J. Sadlier & Co. 0\n",
      "J. and C. Mozley 0\n",
      "THE REFORMATION SOCIETY 0\n",
      "J.M. O'Toole 0\n",
      "P. Donahoe 0\n",
      "D. O'Halloran 0\n",
      "H. & C. McGrath 0\n"
     ]
    }
   ],
   "source": [
    "out_degrees_60 = dict(G_1851_60.out_degree())\n",
    "in_degrees_60 = dict(G_1851_60.in_degree())\n",
    "overall_degrees_60 = {node: out_degrees_60.get(node, 0) + in_degrees_60.get(node, 0) for node in G_1851_60.nodes()}\n",
    "\n",
    "nodes_by_out_degree_60 = sorted(out_degrees_60, key=out_degrees_60.get, reverse=True)\n",
    "nodes_by_in_degree_60 = sorted(in_degrees_60, key=in_degrees_60.get, reverse=True)\n",
    "nodes_by_overall_degree_60 = sorted(overall_degrees_60, key=overall_degrees_60.get, reverse=True)\n",
    "\n",
    "print(\"Nodes ordered by outgoing degree:\")\n",
    "for node in nodes_by_out_degree_60:\n",
    "    print(node, out_degrees_60[node])\n",
    "\n",
    "print(\"\\nNodes ordered by incoming degree:\")\n",
    "for node in nodes_by_in_degree_60:\n",
    "    print(node, in_degrees_60[node])\n",
    "\n",
    "print(\"\\nNodes ordered by overall degree:\")\n",
    "for node in nodes_by_overall_degree_60:\n",
    "    print(node, overall_degrees_60[node])"
   ]
  },
  {
   "cell_type": "code",
   "execution_count": 216,
   "id": "eaf4732a",
   "metadata": {},
   "outputs": [
    {
     "name": "stdout",
     "output_type": "stream",
     "text": [
      "Outgoing Weighted Degrees: {'Thomas Sweeney': 4, 'J.B. Kirker': 4, 'Fielding Lucas, JR.': 2, 'P.J. Kenedy': 2, 'M.T. Cozans': 2, 'George Quigley & Co': 1, 'Edward Dunigan & Brother': 1, 'Catholic Publication Society': 0, \"P. O'Shea\": 0, 'James Duffy': 0, 'T.W. Strong': 0, 'P. J. Kenedy': 0, 'D. & J. Sadlier & Co.': 0, 'J. and C. Mozley': 0, 'THE REFORMATION SOCIETY': 0, \"J.M. O'Toole\": 0, 'P. Donahoe': 0, 'J. Murphy': 0, 'Webb and Levering': 0, \"D. O'Halloran\": 0, 'H. & C. McGrath': 0}\n",
      "Incoming Weighted Degrees: {'Edward Dunigan & Brother': 7, 'Webb and Levering': 4, 'P.J. Kenedy': 3, 'J.B. Kirker': 1, 'J. Murphy': 1, 'Catholic Publication Society': 0, 'Fielding Lucas, JR.': 0, \"P. O'Shea\": 0, 'James Duffy': 0, 'T.W. Strong': 0, 'Thomas Sweeney': 0, 'M.T. Cozans': 0, 'P. J. Kenedy': 0, 'George Quigley & Co': 0, 'D. & J. Sadlier & Co.': 0, 'J. and C. Mozley': 0, 'THE REFORMATION SOCIETY': 0, \"J.M. O'Toole\": 0, 'P. Donahoe': 0, \"D. O'Halloran\": 0, 'H. & C. McGrath': 0}\n",
      "Overall Weighted Degrees: {'Edward Dunigan & Brother': 8, 'J.B. Kirker': 5, 'P.J. Kenedy': 5, 'Thomas Sweeney': 4, 'Webb and Levering': 4, 'Fielding Lucas, JR.': 2, 'M.T. Cozans': 2, 'George Quigley & Co': 1, 'J. Murphy': 1, 'Catholic Publication Society': 0, \"P. O'Shea\": 0, 'James Duffy': 0, 'T.W. Strong': 0, 'P. J. Kenedy': 0, 'D. & J. Sadlier & Co.': 0, 'J. and C. Mozley': 0, 'THE REFORMATION SOCIETY': 0, \"J.M. O'Toole\": 0, 'P. Donahoe': 0, \"D. O'Halloran\": 0, 'H. & C. McGrath': 0}\n"
     ]
    }
   ],
   "source": [
    "\n",
    "outgoing_weighted_degrees = {}\n",
    "incoming_weighted_degrees = {}\n",
    "overall_weighted_degrees = {}\n",
    "\n",
    "for node in G_1851_60.nodes():\n",
    "    successors = []\n",
    "    for node_id in G_1851_60.successors(node):\n",
    "        successors.append(node_id)\n",
    "    weights = []\n",
    "    for u, v, key, attr in G_1851_60.edges(keys=True, data=True):\n",
    "        if (u in successors and v == node) or (u == node and v in successors):\n",
    "            weight = attr['weight']\n",
    "            weights.append(sum(weight))\n",
    "    #outgoing_weight = sum(sum(G11.edges[node, neighbor]['weight']) for neighbor in G11.successors(node))\n",
    "    outgoing_weighted_degrees[node] = sum(weights)\n",
    "\n",
    "for node in G_1851_60.nodes():\n",
    "    predecessors = []\n",
    "    for node_id in G_1851_60.predecessors(node):\n",
    "        predecessors.append(node_id)\n",
    "    weights = []\n",
    "    for u, v, key, attr in G_1851_60.edges(keys=True, data=True):\n",
    "        if (u in predecessors and v == node) or (u == node and v in predecessors):\n",
    "            weight = attr['weight']\n",
    "            weights.append(sum(weight))\n",
    "    #incoming_weight = sum(sum(G11.edges[neighbor, node]['weight']) for neighbor in G11.predecessors(node))\n",
    "    incoming_weighted_degrees[node] = sum(weights)\n",
    "\n",
    "for node in G_1851_60.nodes():\n",
    "    overall_weighted_degree = outgoing_weighted_degrees.get(node, 0) + incoming_weighted_degrees.get(node, 0)\n",
    "    overall_weighted_degrees[node] = overall_weighted_degree\n",
    "\n",
    "sorted_outgoing_weighted_degrees = dict(sorted(outgoing_weighted_degrees.items(), key=lambda item: item[1], reverse=True))\n",
    "sorted_incoming_weighted_degrees = dict(sorted(incoming_weighted_degrees.items(), key=lambda item: item[1], reverse=True))\n",
    "sorted_overall_weighted_degrees = dict(sorted(overall_weighted_degrees.items(), key=lambda item: item[1], reverse=True))\n",
    "\n",
    "print(\"Outgoing Weighted Degrees:\", sorted_outgoing_weighted_degrees)\n",
    "print(\"Incoming Weighted Degrees:\", sorted_incoming_weighted_degrees)\n",
    "print(\"Overall Weighted Degrees:\", sorted_overall_weighted_degrees)\n"
   ]
  },
  {
   "cell_type": "code",
   "execution_count": 217,
   "id": "9ece122c",
   "metadata": {},
   "outputs": [
    {
     "name": "stdout",
     "output_type": "stream",
     "text": [
      "Sorted Source Places: [('New York', 8), ('Boston', 4), ('Baltimore', 3), ('Pittsburg', 1)]\n",
      "Sorted Target Places: [('New York', 10), ('Louisville', 4), ('Baltimore', 1), ('Pittsburg', 1)]\n",
      "Sorted Overall Places: [('New York', 18), ('Baltimore', 4), ('Boston', 4), ('Louisville', 4), ('Pittsburg', 2)]\n"
     ]
    }
   ],
   "source": [
    "from collections import Counter\n",
    "\n",
    "\n",
    "source_place_counter = Counter()\n",
    "target_place_counter = Counter()\n",
    "overall_place_counter = Counter()\n",
    "\n",
    "\n",
    "for publisher_A, publisher_B, data in G_1851_60.edges(data=True):\n",
    "    if isinstance(data['source_place'], list):\n",
    "        source_places = data['source_place']\n",
    "    else:\n",
    "        source_places = [data['source_place']]\n",
    "    if isinstance(data['target_place'], list):\n",
    "        target_places = data['target_place']\n",
    "    else:\n",
    "        target_places = [data['target_place']]\n",
    "\n",
    "    \n",
    "    for i, place_list in enumerate(source_places):\n",
    "        if isinstance(place_list, str):\n",
    "            source_places[i] = [place_list]\n",
    "    \n",
    "    for i, place_list in enumerate(target_places):\n",
    "        if isinstance(place_list, str):\n",
    "            #place_list = [place_list]\n",
    "            target_places[i] = [place_list]\n",
    "            \n",
    "    for place_list in source_places:\n",
    "        for place in place_list:\n",
    "            source_place_counter[place] += 1\n",
    "            \n",
    "    for place_list in target_places:\n",
    "        for place in place_list:\n",
    "            target_place_counter[place] += 1\n",
    "    \n",
    "    for place_list in source_places + target_places:\n",
    "        #if isinstance(place_list, str):\n",
    "            #place_list = [place_list]  # Convert string to list\n",
    "        for place in place_list:\n",
    "            overall_place_counter[place] += 1\n",
    "\n",
    "\n",
    "sorted_source_places_60 = source_place_counter.most_common()\n",
    "sorted_target_places_60 = target_place_counter.most_common()\n",
    "sorted_overall_places_60 = overall_place_counter.most_common()\n",
    "\n",
    "\n",
    "print(\"Sorted Source Places:\", sorted_source_places_60)\n",
    "print(\"Sorted Target Places:\", sorted_target_places_60)\n",
    "print(\"Sorted Overall Places:\", sorted_overall_places_60)\n"
   ]
  },
  {
   "cell_type": "code",
   "execution_count": 218,
   "id": "34780de9",
   "metadata": {},
   "outputs": [
    {
     "name": "stdout",
     "output_type": "stream",
     "text": [
      "Sorted Source Places (Weighted): [('New York', 9), ('Boston', 4), ('Baltimore', 3), ('Pittsburg', 1)]\n",
      "Sorted Target Places (Weighted): [('New York', 11), ('Louisville', 4), ('Baltimore', 1), ('Pittsburg', 1)]\n",
      "Sorted Overall Places (Weighted): [('New York', 20), ('Baltimore', 4), ('Boston', 4), ('Louisville', 4), ('Pittsburg', 2)]\n"
     ]
    }
   ],
   "source": [
    "source_place_counter_weighted = Counter()\n",
    "target_place_counter_weighted = Counter()\n",
    "overall_place_counter_weighted = Counter()\n",
    "\n",
    "for publisher_A, publisher_B, data in  G_1851_60.edges(data=True):\n",
    "    # Get the weight of the current edge\n",
    "    weight = data['weight']\n",
    "    \n",
    "    if isinstance(data['source_place'], list):\n",
    "        source_places = data['source_place']\n",
    "    else:\n",
    "        source_places = [data['source_place']]\n",
    "    if isinstance(data['target_place'], list):\n",
    "        target_places = data['target_place']\n",
    "    else:\n",
    "        target_places = [data['target_place']]\n",
    "\n",
    "    for i, place_list in enumerate(source_places):\n",
    "        if isinstance(place_list, str):\n",
    "            source_places[i] = [place_list]\n",
    "\n",
    "    for i, place_list in enumerate(target_places):\n",
    "        if isinstance(place_list, str):\n",
    "            target_places[i] = [place_list]\n",
    "\n",
    "    for place_list in source_places:\n",
    "        for place in place_list:\n",
    "            source_place_counter_weighted[place] += weight[0]\n",
    "\n",
    "    for place_list in target_places:\n",
    "        for place in place_list:\n",
    "            target_place_counter_weighted[place] += weight[0]\n",
    "\n",
    "    for place_list in source_places + target_places:\n",
    "        for place in place_list:\n",
    "            overall_place_counter_weighted[place] += weight[0]\n",
    "\n",
    "sorted_source_places_weighted_60 = source_place_counter_weighted.most_common()\n",
    "sorted_target_places_weighted_60 = target_place_counter_weighted.most_common()\n",
    "sorted_overall_places_weighted_60 = overall_place_counter_weighted.most_common()\n",
    "\n",
    "print(\"Sorted Source Places (Weighted):\", sorted_source_places_weighted_60)\n",
    "print(\"Sorted Target Places (Weighted):\", sorted_target_places_weighted_60)\n",
    "print(\"Sorted Overall Places (Weighted):\", sorted_overall_places_weighted_60)\n"
   ]
  },
  {
   "cell_type": "code",
   "execution_count": 219,
   "id": "c66251a3",
   "metadata": {},
   "outputs": [
    {
     "name": "stdout",
     "output_type": "stream",
     "text": [
      "Title and number of connections between publishers it occasioned: ('Preparation for Death', 11) | Source Places: {'New York', 'Boston'} | Target Places: {'New York', 'Louisville'}\n",
      "Title and number of connections between publishers it occasioned: ('The Love of Our Lord Jesus Christ. Reduced to Practice', 2) | Source Places: {'Baltimore'} | Target Places: {'New York'}\n",
      "Title and number of connections between publishers it occasioned: ('The Mission Book : A Manual', 1) | Source Places: {'New York'} | Target Places: {'New York'}\n",
      "Title and number of connections between publishers it occasioned: ('Duties and advantages of the religious state; or, lesser works of St. Alphonsus, relating to the religious state', 1) | Source Places: {'Pittsburg', 'Baltimore'} | Target Places: {'Pittsburg', 'Baltimore'}\n",
      "Title and weighted number of connections between publishers it occasioned: ('Preparation for Death', 11) | Source Places: {'New York', 'Boston'} | Target Places: {'New York', 'Louisville'}\n",
      "Title and weighted number of connections between publishers it occasioned: ('The Love of Our Lord Jesus Christ. Reduced to Practice', 2) | Source Places: {'Baltimore'} | Target Places: {'New York'}\n",
      "Title and weighted number of connections between publishers it occasioned: ('The Mission Book : A Manual', 2) | Source Places: {'New York'} | Target Places: {'New York'}\n",
      "Title and weighted number of connections between publishers it occasioned: ('Duties and advantages of the religious state; or, lesser works of St. Alphonsus, relating to the religious state', 1) | Source Places: {'Pittsburg', 'Baltimore'} | Target Places: {'Pittsburg', 'Baltimore'}\n"
     ]
    }
   ],
   "source": [
    "#from collections import Counter\n",
    "\n",
    "# Initialize counters for unweighted and weighted titles\n",
    "unweighted_title_counter = Counter()\n",
    "weighted_title_counter = Counter()\n",
    "\n",
    "# Initialize dictionaries to store concatenated source and target places for each title\n",
    "title_source_places = {}\n",
    "title_target_places = {}\n",
    "\n",
    "# Iterate over edges in the graph\n",
    "for publisher_A, publisher_B, data in G_1851_60.edges(data=True):\n",
    "    title = data['title']\n",
    "    weight = data['weight']\n",
    "    \n",
    "    # Increment the unweighted and weighted title counters\n",
    "    unweighted_title_counter[title] += 1\n",
    "    weighted_title_counter[title] += weight[0]\n",
    "    \n",
    "    if isinstance(data['source_place'], list):\n",
    "        source_places = data['source_place']\n",
    "    else:\n",
    "        source_places = [data['source_place']]\n",
    "    if isinstance(data['target_place'], list):\n",
    "        target_places = data['target_place']\n",
    "    else:\n",
    "        target_places = [data['target_place']]\n",
    "\n",
    "    for i, place_list in enumerate(source_places):\n",
    "        if isinstance(place_list, str):\n",
    "            source_places[i] = [place_list]\n",
    "\n",
    "    for i, place_list in enumerate(target_places):\n",
    "        if isinstance(place_list, str):\n",
    "            target_places[i] = [place_list]\n",
    "    \n",
    "    if title not in title_source_places:\n",
    "                title_source_places[title] = [] \n",
    "            \n",
    "    for place_list in source_places:\n",
    "        for place in place_list:\n",
    "            title_source_places[title].append(place)\n",
    "    \n",
    "    if title not in title_target_places:\n",
    "                title_target_places[title] = [] \n",
    "            \n",
    "    for place_list in target_places:\n",
    "        for place in place_list:          \n",
    "            title_target_places[title].append(place)\n",
    "            \n",
    "    \n",
    "sorted_unweighted_titles_60 = unweighted_title_counter.most_common()\n",
    "\n",
    "# Sort titles based on weighted occurrences\n",
    "sorted_weighted_titles_60 = weighted_title_counter.most_common()\n",
    "\n",
    "for elem in sorted_unweighted_titles_60:\n",
    "    print(f\"Title and number of connections between publishers it occasioned: {elem} | Source Places: {set(title_source_places[elem[0]])} | Target Places: {set(title_target_places[elem[0]])}\")\n",
    "\n",
    "for ele in sorted_weighted_titles_60:\n",
    "\n",
    "    print(f\"Title and weighted number of connections between publishers it occasioned: {ele} | Source Places: {set(title_source_places[ele[0]])} | Target Places: {set(title_target_places[ele[0]])}\")\n"
   ]
  },
  {
   "cell_type": "code",
   "execution_count": 167,
   "id": "0085c78c",
   "metadata": {},
   "outputs": [
    {
     "name": "stdout",
     "output_type": "stream",
     "text": [
      "Fielding Lucas, JR. P.J. Kenedy [1]\n",
      "Fielding Lucas, JR. Edward Dunigan & Brother [1]\n",
      "Thomas Sweeney J.B. Kirker [1]\n",
      "Thomas Sweeney P.J. Kenedy [1]\n",
      "Thomas Sweeney Edward Dunigan & Brother [1]\n",
      "Thomas Sweeney Webb and Levering [1]\n",
      "J.B. Kirker P.J. Kenedy [1]\n",
      "J.B. Kirker Edward Dunigan & Brother [1]\n",
      "J.B. Kirker Webb and Levering [1]\n",
      "P.J. Kenedy Edward Dunigan & Brother [1]\n",
      "P.J. Kenedy Webb and Levering [1]\n",
      "M.T. Cozans Edward Dunigan & Brother [2]\n",
      "George Quigley & Co J. Murphy [1]\n",
      "Edward Dunigan & Brother Webb and Levering [1]\n"
     ]
    }
   ],
   "source": [
    "for u, v, data in G_1851_60.edges(data=True):\n",
    "    print(u, v, data['weight'])"
   ]
  },
  {
   "cell_type": "code",
   "execution_count": null,
   "id": "3315533c",
   "metadata": {},
   "outputs": [],
   "source": [
    "for u, v, key, attr in G_1851_60.edges(keys=True, data=True):\n",
    "    print()"
   ]
  },
  {
   "cell_type": "code",
   "execution_count": 232,
   "id": "385d6e6e",
   "metadata": {},
   "outputs": [
    {
     "data": {
      "text/plain": [
       "14"
      ]
     },
     "execution_count": 232,
     "metadata": {},
     "output_type": "execute_result"
    }
   ],
   "source": [
    "len(G_combined_60.edges()) "
   ]
  },
  {
   "cell_type": "code",
   "execution_count": 240,
   "id": "e09666bb",
   "metadata": {},
   "outputs": [
    {
     "name": "stdout",
     "output_type": "stream",
     "text": [
      "Node Fielding Lucas, JR.: Eigenvector Centrality = 6.374446808400779e-10\n",
      "Node P.J. Kenedy: Eigenvector Centrality = 6.15631323861729e-05\n",
      "Node Edward Dunigan & Brother: Eigenvector Centrality = 0.009049687393844017\n",
      "Node Thomas Sweeney: Eigenvector Centrality = 6.374446808400779e-10\n",
      "Node J.B. Kirker: Eigenvector Centrality = 2.792007702079543e-07\n",
      "Node Webb and Levering: Eigenvector Centrality = 0.9999590488454507\n",
      "Node M.T. Cozans: Eigenvector Centrality = 6.374446808400779e-10\n",
      "Node George Quigley & Co: Eigenvector Centrality = 6.374446808400779e-10\n",
      "Node J. Murphy: Eigenvector Centrality = 2.792007702079543e-07\n",
      "Node Catholic Publication Society: Eigenvector Centrality = 6.374446808400779e-10\n",
      "Node P. O'Shea: Eigenvector Centrality = 6.374446808400779e-10\n",
      "Node James Duffy: Eigenvector Centrality = 6.374446808400779e-10\n",
      "Node T.W. Strong: Eigenvector Centrality = 6.374446808400779e-10\n",
      "Node P. J. Kenedy: Eigenvector Centrality = 6.374446808400779e-10\n",
      "Node D. & J. Sadlier & Co.: Eigenvector Centrality = 6.374446808400779e-10\n",
      "Node J. and C. Mozley: Eigenvector Centrality = 6.374446808400779e-10\n",
      "Node THE REFORMATION SOCIETY: Eigenvector Centrality = 6.374446808400779e-10\n",
      "Node J.M. O'Toole: Eigenvector Centrality = 6.374446808400779e-10\n",
      "Node P. Donahoe: Eigenvector Centrality = 6.374446808400779e-10\n",
      "Node D. O'Halloran: Eigenvector Centrality = 6.374446808400779e-10\n",
      "Node H. & C. McGrath: Eigenvector Centrality = 6.374446808400779e-10\n"
     ]
    }
   ],
   "source": [
    "G_combined_60 = nx.DiGraph()\n",
    "\n",
    "for u, v, key, attr in G_1851_60.edges(keys=True, data=True):\n",
    "    if G_combined_60.has_edge(u, v):\n",
    "        # If the edge exists, aggregate or process the edge attributes (e.g., summing weights)\n",
    "        G_combined_60[u][v]['weight'] += attr['weight']\n",
    "    else:\n",
    "        # Add new edge with aggregated or selected attributes\n",
    "        G_combined_60.add_edge(u, v, weight=attr['weight'])\n",
    "\n",
    "for node, data in G_1851_60.nodes(data=True):\n",
    "    if not G_combined_60.has_node(node):\n",
    "        G_combined_60.add_node(node, magnitude=G_1851_60.nodes[node].get('magnitude', 1))\n",
    "        \n",
    "# Calculate eigenvector centrality with increased max_iter\n",
    "eigenvector_centralities_1 = nx.eigenvector_centrality(G_combined_60, max_iter=1000)\n",
    "\n",
    "for node in G_combined_60.nodes():\n",
    "    centrality_value = eigenvector_centralities_1[node]\n",
    "    print(f\"Node {node}: Eigenvector Centrality = {centrality_value}\")"
   ]
  },
  {
   "cell_type": "code",
   "execution_count": 241,
   "id": "2e9b330b",
   "metadata": {},
   "outputs": [],
   "source": [
    "# import operator\n",
    "\n",
    "sorted_closeness_1 = sorted(closeness_centralities_1.items(), key=operator.itemgetter(1), reverse=True)\n",
    "sorted_betweenness_1 = sorted(betweenness_centralities_1.items(), key=operator.itemgetter(1), reverse=True)\n",
    "sorted_eigenvector_1 = sorted(eigenvector_centralities_1.items(), key=operator.itemgetter(1), reverse=True)"
   ]
  },
  {
   "cell_type": "code",
   "execution_count": 237,
   "id": "ee329c5a",
   "metadata": {},
   "outputs": [
    {
     "data": {
      "text/plain": [
       "[('Edward Dunigan & Brother', 0.25),\n",
       " ('Webb and Levering', 0.22499999999999998),\n",
       " ('P.J. Kenedy', 0.15),\n",
       " ('J.B. Kirker', 0.05),\n",
       " ('J. Murphy', 0.05),\n",
       " ('Fielding Lucas, JR.', 0.0),\n",
       " ('Thomas Sweeney', 0.0),\n",
       " ('M.T. Cozans', 0.0),\n",
       " ('George Quigley & Co', 0.0),\n",
       " ('Catholic Publication Society', 0.0),\n",
       " (\"P. O'Shea\", 0.0),\n",
       " ('James Duffy', 0.0),\n",
       " ('T.W. Strong', 0.0),\n",
       " ('P. J. Kenedy', 0.0),\n",
       " ('D. & J. Sadlier & Co.', 0.0),\n",
       " ('J. and C. Mozley', 0.0),\n",
       " ('THE REFORMATION SOCIETY', 0.0),\n",
       " (\"J.M. O'Toole\", 0.0),\n",
       " ('P. Donahoe', 0.0),\n",
       " (\"D. O'Halloran\", 0.0),\n",
       " ('H. & C. McGrath', 0.0)]"
      ]
     },
     "execution_count": 237,
     "metadata": {},
     "output_type": "execute_result"
    }
   ],
   "source": [
    "sorted_closeness_1"
   ]
  },
  {
   "cell_type": "code",
   "execution_count": 238,
   "id": "ade4fde5",
   "metadata": {},
   "outputs": [
    {
     "data": {
      "text/plain": [
       "[('Edward Dunigan & Brother', 0.003947368421052632),\n",
       " ('P.J. Kenedy', 0.0013157894736842105),\n",
       " ('Fielding Lucas, JR.', 0.0),\n",
       " ('Thomas Sweeney', 0.0),\n",
       " ('J.B. Kirker', 0.0),\n",
       " ('Webb and Levering', 0.0),\n",
       " ('M.T. Cozans', 0.0),\n",
       " ('George Quigley & Co', 0.0),\n",
       " ('J. Murphy', 0.0),\n",
       " ('Catholic Publication Society', 0.0),\n",
       " (\"P. O'Shea\", 0.0),\n",
       " ('James Duffy', 0.0),\n",
       " ('T.W. Strong', 0.0),\n",
       " ('P. J. Kenedy', 0.0),\n",
       " ('D. & J. Sadlier & Co.', 0.0),\n",
       " ('J. and C. Mozley', 0.0),\n",
       " ('THE REFORMATION SOCIETY', 0.0),\n",
       " (\"J.M. O'Toole\", 0.0),\n",
       " ('P. Donahoe', 0.0),\n",
       " (\"D. O'Halloran\", 0.0),\n",
       " ('H. & C. McGrath', 0.0)]"
      ]
     },
     "execution_count": 238,
     "metadata": {},
     "output_type": "execute_result"
    }
   ],
   "source": [
    "sorted_betweenness_1"
   ]
  },
  {
   "cell_type": "code",
   "execution_count": 242,
   "id": "42d309df",
   "metadata": {},
   "outputs": [
    {
     "data": {
      "text/plain": [
       "[('Webb and Levering', 0.9999590488454507),\n",
       " ('Edward Dunigan & Brother', 0.009049687393844017),\n",
       " ('P.J. Kenedy', 6.15631323861729e-05),\n",
       " ('J.B. Kirker', 2.792007702079543e-07),\n",
       " ('J. Murphy', 2.792007702079543e-07),\n",
       " ('Fielding Lucas, JR.', 6.374446808400779e-10),\n",
       " ('Thomas Sweeney', 6.374446808400779e-10),\n",
       " ('M.T. Cozans', 6.374446808400779e-10),\n",
       " ('George Quigley & Co', 6.374446808400779e-10),\n",
       " ('Catholic Publication Society', 6.374446808400779e-10),\n",
       " (\"P. O'Shea\", 6.374446808400779e-10),\n",
       " ('James Duffy', 6.374446808400779e-10),\n",
       " ('T.W. Strong', 6.374446808400779e-10),\n",
       " ('P. J. Kenedy', 6.374446808400779e-10),\n",
       " ('D. & J. Sadlier & Co.', 6.374446808400779e-10),\n",
       " ('J. and C. Mozley', 6.374446808400779e-10),\n",
       " ('THE REFORMATION SOCIETY', 6.374446808400779e-10),\n",
       " (\"J.M. O'Toole\", 6.374446808400779e-10),\n",
       " ('P. Donahoe', 6.374446808400779e-10),\n",
       " (\"D. O'Halloran\", 6.374446808400779e-10),\n",
       " ('H. & C. McGrath', 6.374446808400779e-10)]"
      ]
     },
     "execution_count": 242,
     "metadata": {},
     "output_type": "execute_result"
    }
   ],
   "source": [
    "sorted_eigenvector_1 "
   ]
  },
  {
   "cell_type": "code",
   "execution_count": 249,
   "id": "3db04d10",
   "metadata": {},
   "outputs": [],
   "source": [
    "for u, v, data in G_combined_60.edges(data=True):\n",
    "    data['weight'] = sum(data['weight'])\n",
    "\n",
    "# SO ONCE AGAIN, FOR EIGENVECTOR WE NEED TO INCREASE ITERATIONS TO 500\n",
    "weighted_closeness_1 = nx.closeness_centrality(G_combined_60, distance='weight')\n",
    "weighted_betweenness_1 = nx.betweenness_centrality(G_combined_60, weight='weight')\n",
    "weighted_eigenvector_1 = nx.eigenvector_centrality(G_combined_60, max_iter = 500, weight='weight')\n",
    "\n",
    "sorted_weighted_closeness_1 = sorted(weighted_closeness_1.items(), key=lambda x: x[1], reverse=True)\n",
    "sorted_weighted_betweenness_1 = sorted(weighted_betweenness_1.items(), key=lambda x: x[1], reverse=True)\n",
    "sorted_weighted_eigenvector_1 = sorted(weighted_eigenvector_1.items(), key=lambda x: x[1], reverse=True)"
   ]
  },
  {
   "cell_type": "code",
   "execution_count": 47,
   "id": "b34e6f07",
   "metadata": {},
   "outputs": [
    {
     "data": {
      "text/plain": [
       "{'Edward Dunigan & Brother': 0.23076923076923078,\n",
       " 'J.B. Kirker': 0.17307692307692307,\n",
       " 'P.J. Kenedy': 0.3076923076923077,\n",
       " 'Webb and Levering': 0.32051282051282054,\n",
       " \"P. O'Shea\": 0.17582417582417584,\n",
       " 'Thomas Sweeney': 0.0,\n",
       " 'J. Murphy': 0.07692307692307693,\n",
       " 'George Quigley & Co': 0.07692307692307693,\n",
       " 'Fielding Lucas, JR.': 0.0,\n",
       " 'James Duffy': 0.0,\n",
       " \"J.M. O'Toole\": 0.0,\n",
       " 'T.W. Strong': 0.0,\n",
       " 'P. J. Kenedy': 0.0,\n",
       " 'H. & C. McGrath': 0.0}"
      ]
     },
     "execution_count": 47,
     "metadata": {},
     "output_type": "execute_result"
    }
   ],
   "source": [
    "weighted_closeness_1"
   ]
  },
  {
   "cell_type": "code",
   "execution_count": 251,
   "id": "c0eed9ad",
   "metadata": {},
   "outputs": [
    {
     "data": {
      "text/plain": [
       "[('Webb and Levering', 0.19999999999999998),\n",
       " ('Edward Dunigan & Brother', 0.17857142857142858),\n",
       " ('P.J. Kenedy', 0.15),\n",
       " ('J. Murphy', 0.05),\n",
       " ('J.B. Kirker', 0.016666666666666666),\n",
       " ('Fielding Lucas, JR.', 0.0),\n",
       " ('Thomas Sweeney', 0.0),\n",
       " ('M.T. Cozans', 0.0),\n",
       " ('George Quigley & Co', 0.0),\n",
       " ('Catholic Publication Society', 0.0),\n",
       " (\"P. O'Shea\", 0.0),\n",
       " ('James Duffy', 0.0),\n",
       " ('T.W. Strong', 0.0),\n",
       " ('P. J. Kenedy', 0.0),\n",
       " ('D. & J. Sadlier & Co.', 0.0),\n",
       " ('J. and C. Mozley', 0.0),\n",
       " ('THE REFORMATION SOCIETY', 0.0),\n",
       " (\"J.M. O'Toole\", 0.0),\n",
       " ('P. Donahoe', 0.0),\n",
       " (\"D. O'Halloran\", 0.0),\n",
       " ('H. & C. McGrath', 0.0)]"
      ]
     },
     "execution_count": 251,
     "metadata": {},
     "output_type": "execute_result"
    }
   ],
   "source": [
    "sorted_weighted_closeness_1 # UPDATED FINAL"
   ]
  },
  {
   "cell_type": "code",
   "execution_count": 252,
   "id": "40c07eef",
   "metadata": {},
   "outputs": [
    {
     "data": {
      "text/plain": [
       "[('P.J. Kenedy', 0.003947368421052632),\n",
       " ('Edward Dunigan & Brother', 0.003947368421052632),\n",
       " ('Fielding Lucas, JR.', 0.0),\n",
       " ('Thomas Sweeney', 0.0),\n",
       " ('J.B. Kirker', 0.0),\n",
       " ('Webb and Levering', 0.0),\n",
       " ('M.T. Cozans', 0.0),\n",
       " ('George Quigley & Co', 0.0),\n",
       " ('J. Murphy', 0.0),\n",
       " ('Catholic Publication Society', 0.0),\n",
       " (\"P. O'Shea\", 0.0),\n",
       " ('James Duffy', 0.0),\n",
       " ('T.W. Strong', 0.0),\n",
       " ('P. J. Kenedy', 0.0),\n",
       " ('D. & J. Sadlier & Co.', 0.0),\n",
       " ('J. and C. Mozley', 0.0),\n",
       " ('THE REFORMATION SOCIETY', 0.0),\n",
       " (\"J.M. O'Toole\", 0.0),\n",
       " ('P. Donahoe', 0.0),\n",
       " (\"D. O'Halloran\", 0.0),\n",
       " ('H. & C. McGrath', 0.0)]"
      ]
     },
     "execution_count": 252,
     "metadata": {},
     "output_type": "execute_result"
    }
   ],
   "source": [
    "sorted_weighted_betweenness_1"
   ]
  },
  {
   "cell_type": "code",
   "execution_count": 253,
   "id": "961c44a4",
   "metadata": {},
   "outputs": [
    {
     "data": {
      "text/plain": [
       "[('Webb and Levering', 0.9999590331467568),\n",
       " ('Edward Dunigan & Brother', 0.009051425549111924),\n",
       " ('P.J. Kenedy', 6.102168365355018e-05),\n",
       " ('J.B. Kirker', 2.7884939205690463e-07),\n",
       " ('J. Murphy', 9.309148911655825e-08),\n",
       " ('Fielding Lucas, JR.', 2.125376463848359e-10),\n",
       " ('Thomas Sweeney', 2.125376463848359e-10),\n",
       " ('M.T. Cozans', 2.125376463848359e-10),\n",
       " ('George Quigley & Co', 2.125376463848359e-10),\n",
       " ('Catholic Publication Society', 2.125376463848359e-10),\n",
       " (\"P. O'Shea\", 2.125376463848359e-10),\n",
       " ('James Duffy', 2.125376463848359e-10),\n",
       " ('T.W. Strong', 2.125376463848359e-10),\n",
       " ('P. J. Kenedy', 2.125376463848359e-10),\n",
       " ('D. & J. Sadlier & Co.', 2.125376463848359e-10),\n",
       " ('J. and C. Mozley', 2.125376463848359e-10),\n",
       " ('THE REFORMATION SOCIETY', 2.125376463848359e-10),\n",
       " (\"J.M. O'Toole\", 2.125376463848359e-10),\n",
       " ('P. Donahoe', 2.125376463848359e-10),\n",
       " (\"D. O'Halloran\", 2.125376463848359e-10),\n",
       " ('H. & C. McGrath', 2.125376463848359e-10)]"
      ]
     },
     "execution_count": 253,
     "metadata": {},
     "output_type": "execute_result"
    }
   ],
   "source": [
    "sorted_weighted_eigenvector_1"
   ]
  },
  {
   "cell_type": "code",
   "execution_count": 50,
   "id": "50ba1024",
   "metadata": {},
   "outputs": [
    {
     "data": {
      "text/plain": [
       "True"
      ]
     },
     "execution_count": 50,
     "metadata": {},
     "output_type": "execute_result"
    }
   ],
   "source": [
    "sorted_weighted_eigenvector_1 == sorted_eigenvector_1"
   ]
  },
  {
   "cell_type": "code",
   "execution_count": 51,
   "id": "9163d240",
   "metadata": {},
   "outputs": [
    {
     "data": {
      "text/plain": [
       "True"
      ]
     },
     "execution_count": 51,
     "metadata": {},
     "output_type": "execute_result"
    }
   ],
   "source": [
    "sorted_weighted_betweenness_1 == sorted_betweenness_1"
   ]
  },
  {
   "cell_type": "code",
   "execution_count": 52,
   "id": "989419a0",
   "metadata": {},
   "outputs": [
    {
     "data": {
      "text/plain": [
       "True"
      ]
     },
     "execution_count": 52,
     "metadata": {},
     "output_type": "execute_result"
    }
   ],
   "source": [
    "sorted_weighted_closeness_1 == sorted_closeness_1"
   ]
  },
  {
   "cell_type": "code",
   "execution_count": 266,
   "id": "2bcb09f0",
   "metadata": {},
   "outputs": [
    {
     "data": {
      "image/png": "[encoded data removed]",
      "text/plain": [
       "<Figure size 1200x800 with 1 Axes>"
      ]
     },
     "metadata": {},
     "output_type": "display_data"
    }
   ],
   "source": [
    "\n",
    "G_combined_60 = nx.DiGraph()\n",
    "\n",
    "for u, v, data in G_1851_60.edges(data=True):\n",
    "    if G_combined_60.has_edge(u, v):\n",
    "        # If the edge exists, update the weight attribute by adding the current edge's weight\n",
    "        G_combined_60[u][v]['weight'] += data['weight']\n",
    "    else:\n",
    "        G_combined_60.add_edge(u, v, weight=data['weight'])\n",
    "\n",
    "    if not G_combined_60.has_node(u):\n",
    "        G_combined_60.add_node(u, magnitude=G_1851_60.nodes[u].get('magnitude', 1))  # Default magnitude to 1 if not present\n",
    "    else:\n",
    "        G_combined_60.nodes[u]['magnitude'] = G_1851_60.nodes[u].get('magnitude', 1)\n",
    "\n",
    "    if not G_combined_60.has_node(v):\n",
    "        G_combined_60.add_node(v, magnitude=G_1851_60.nodes[v].get('magnitude', 1))  # Default magnitude to 1 if not present\n",
    "    else:\n",
    "        G_combined_60.nodes[v]['magnitude'] = G_1851_60.nodes[v].get('magnitude', 1)\n",
    "\n",
    "for u, v, data in G_combined_60.edges(data=True):\n",
    "    data['weight'] = sum(data['weight'])\n",
    "    \n",
    "for node, data in G_1851_60.nodes(data=True):\n",
    "    if not G_combined_60.has_node(node):\n",
    "        G_combined_60.add_node(node, magnitude=G_1851_60.nodes[node].get('magnitude', 1))\n",
    "    \n",
    "node_sizes = [G_combined_60.nodes[node].get('magnitude', 1) for node in G_combined_60.nodes()]\n",
    "\n",
    "# Scale node sizes for better visualization (adjust scaling factor as needed)\n",
    "node_sizes = [size * 36 for size in node_sizes]\n",
    "\n",
    "layout = nx.spring_layout(G_combined_60)\n",
    "\n",
    "edge_widths = [data['weight'] for _, _, data in G_combined_60.edges(data=True)]\n",
    "\n",
    "# Plot the graph\n",
    "plt.figure(figsize=(12, 8))\n",
    "nx.draw(G_combined_60, pos=layout, node_size=node_sizes, with_labels=True,\n",
    "        alpha=1, node_color='skyblue', width=edge_widths, edge_color='gray', arrows=True)\n",
    "\n",
    "plt.title(\"Pietra 19th Cent Liguori English Translation Network 1851-1860\")\n",
    "\n",
    "plt.savefig('Pietra_Margento_19th_Cent_Liguori_EN_1851-1860.png')\n",
    "\n",
    "plt.show()\n"
   ]
  },
  {
   "cell_type": "code",
   "execution_count": 267,
   "id": "60eb3887",
   "metadata": {},
   "outputs": [],
   "source": [
    "l1 = list(nx.weakly_connected_components(G_combined_60))"
   ]
  },
  {
   "cell_type": "code",
   "execution_count": 268,
   "id": "ecffbc01",
   "metadata": {},
   "outputs": [
    {
     "data": {
      "text/plain": [
       "14"
      ]
     },
     "execution_count": 268,
     "metadata": {},
     "output_type": "execute_result"
    }
   ],
   "source": [
    "len(l1)"
   ]
  },
  {
   "cell_type": "code",
   "execution_count": 269,
   "id": "33ffe150",
   "metadata": {},
   "outputs": [
    {
     "data": {
      "image/png": "[encoded data removed]",
      "text/plain": [
       "<Figure size 1200x800 with 1 Axes>"
      ]
     },
     "metadata": {},
     "output_type": "display_data"
    }
   ],
   "source": [
    "Go = G_combined_60.subgraph(l1[0])\n",
    "\n",
    "node_sizes = [Go.nodes[node].get('magnitude', 1) for node in Go.nodes()]\n",
    "\n",
    "# Scale node sizes for better visualization (adjust scaling factor as needed)\n",
    "node_sizes = [size * 36 for size in node_sizes]\n",
    "\n",
    "layout = nx.spring_layout(Go)\n",
    "\n",
    "edge_widths = [data['weight'] for _, _, data in Go.edges(data=True)]\n",
    "\n",
    "# Plot the graph\n",
    "plt.figure(figsize=(12, 8))\n",
    "nx.draw(Go, pos=layout, node_size=node_sizes, with_labels=True,\n",
    "        alpha=1, node_color='skyblue', width=edge_widths, edge_color='gray', arrows=True)\n",
    "\n",
    "plt.title(\"19th Cent Liguori 1851-1860 First Component\")\n",
    "\n",
    "plt.savefig('19th_Cent_Liguori_EN_185_First_Component.png')\n",
    "\n",
    "plt.show()"
   ]
  },
  {
   "cell_type": "code",
   "execution_count": 270,
   "id": "3761c8fe",
   "metadata": {},
   "outputs": [
    {
     "data": {
      "image/png": "[encoded data removed]",
      "text/plain": [
       "<Figure size 1200x800 with 1 Axes>"
      ]
     },
     "metadata": {},
     "output_type": "display_data"
    }
   ],
   "source": [
    "Go = G_combined_60.subgraph(l1[1])\n",
    "\n",
    "node_sizes = [Go.nodes[node].get('magnitude', 1) for node in Go.nodes()]\n",
    "\n",
    "# Scale node sizes for better visualization (adjust scaling factor as needed)\n",
    "node_sizes = [size * 36 for size in node_sizes]\n",
    "\n",
    "layout = nx.spring_layout(Go)\n",
    "\n",
    "edge_widths = [data['weight'] for _, _, data in Go.edges(data=True)]\n",
    "\n",
    "# Plot the graph\n",
    "plt.figure(figsize=(12, 8))\n",
    "nx.draw(Go, pos=layout, node_size=node_sizes, with_labels=True,\n",
    "        alpha=1, node_color='skyblue', width=edge_widths, edge_color='gray', arrows=True)\n",
    "\n",
    "plt.title(\"19th Cent Liguori 1851-1860 Second Component\")\n",
    "\n",
    "plt.savefig('19th_Cent_Liguori_EN_1851-1860_Second_Component.png')\n",
    "\n",
    "plt.show()"
   ]
  },
  {
   "cell_type": "code",
   "execution_count": null,
   "id": "2bd36dbf",
   "metadata": {},
   "outputs": [],
   "source": []
  }
 ],
 "metadata": {
  "kernelspec": {
   "display_name": "Python 3 (ipykernel)",
   "language": "python",
   "name": "python3"
  },
  "language_info": {
   "codemirror_mode": {
    "name": "ipython",
    "version": 3
   },
   "file_extension": ".py",
   "mimetype": "text/x-python",
   "name": "python",
   "nbconvert_exporter": "python",
   "pygments_lexer": "ipython3",
   "version": "3.11.4"
  }
 },
 "nbformat": 4,
 "nbformat_minor": 5
}
